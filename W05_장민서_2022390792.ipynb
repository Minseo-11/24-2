{
 "cells": [
  {
   "cell_type": "code",
   "execution_count": 1,
   "id": "cc3e8610-c600-42d0-bfb0-f8f00caecd51",
   "metadata": {},
   "outputs": [],
   "source": [
    "# Pre-processing"
   ]
  },
  {
   "cell_type": "code",
   "execution_count": 2,
   "id": "125a4e91-9b9f-4182-aac7-b0dfcfb87f4e",
   "metadata": {},
   "outputs": [],
   "source": [
    "# Load dataset\n",
    "\n",
    "import pandas as pd\n",
    "import numpy as np\n",
    "import matplotlib.pyplot as plt\n",
    "%matplotlib inline\n",
    "import seaborn as sns\n",
    "import plotly.express as px"
   ]
  },
  {
   "cell_type": "code",
   "execution_count": 3,
   "id": "ee789462-c830-4ccf-a358-04845c6d66ce",
   "metadata": {},
   "outputs": [
    {
     "data": {
      "text/html": [
       "<div>\n",
       "<style scoped>\n",
       "    .dataframe tbody tr th:only-of-type {\n",
       "        vertical-align: middle;\n",
       "    }\n",
       "\n",
       "    .dataframe tbody tr th {\n",
       "        vertical-align: top;\n",
       "    }\n",
       "\n",
       "    .dataframe thead th {\n",
       "        text-align: right;\n",
       "    }\n",
       "</style>\n",
       "<table border=\"1\" class=\"dataframe\">\n",
       "  <thead>\n",
       "    <tr style=\"text-align: right;\">\n",
       "      <th></th>\n",
       "      <th>InventoryId</th>\n",
       "      <th>Store</th>\n",
       "      <th>Brand</th>\n",
       "      <th>Description</th>\n",
       "      <th>Size</th>\n",
       "      <th>VendorNumber</th>\n",
       "      <th>VendorName</th>\n",
       "      <th>PONumber</th>\n",
       "      <th>PODate</th>\n",
       "      <th>ReceivingDate</th>\n",
       "      <th>InvoiceDate</th>\n",
       "      <th>PayDate</th>\n",
       "      <th>PurchasePrice</th>\n",
       "      <th>Quantity</th>\n",
       "      <th>Dollars</th>\n",
       "      <th>Classification</th>\n",
       "    </tr>\n",
       "  </thead>\n",
       "  <tbody>\n",
       "    <tr>\n",
       "      <th>0</th>\n",
       "      <td>69_MOUNTMEND_8412</td>\n",
       "      <td>69</td>\n",
       "      <td>8412</td>\n",
       "      <td>Tequila Ocho Plata Fresno</td>\n",
       "      <td>750mL</td>\n",
       "      <td>105</td>\n",
       "      <td>ALTAMAR BRANDS LLC</td>\n",
       "      <td>8124</td>\n",
       "      <td>2015-12-21</td>\n",
       "      <td>2016-01-02</td>\n",
       "      <td>2016-01-04</td>\n",
       "      <td>2016-02-16</td>\n",
       "      <td>35.71</td>\n",
       "      <td>6</td>\n",
       "      <td>214.26</td>\n",
       "      <td>1</td>\n",
       "    </tr>\n",
       "    <tr>\n",
       "      <th>1</th>\n",
       "      <td>30_CULCHETH_5255</td>\n",
       "      <td>30</td>\n",
       "      <td>5255</td>\n",
       "      <td>TGI Fridays Ultimte Mudslide</td>\n",
       "      <td>1.75L</td>\n",
       "      <td>4466</td>\n",
       "      <td>AMERICAN VINTAGE BEVERAGE</td>\n",
       "      <td>8137</td>\n",
       "      <td>2015-12-22</td>\n",
       "      <td>2016-01-01</td>\n",
       "      <td>2016-01-07</td>\n",
       "      <td>2016-02-21</td>\n",
       "      <td>9.35</td>\n",
       "      <td>4</td>\n",
       "      <td>37.40</td>\n",
       "      <td>1</td>\n",
       "    </tr>\n",
       "    <tr>\n",
       "      <th>2</th>\n",
       "      <td>34_PITMERDEN_5215</td>\n",
       "      <td>34</td>\n",
       "      <td>5215</td>\n",
       "      <td>TGI Fridays Long Island Iced</td>\n",
       "      <td>1.75L</td>\n",
       "      <td>4466</td>\n",
       "      <td>AMERICAN VINTAGE BEVERAGE</td>\n",
       "      <td>8137</td>\n",
       "      <td>2015-12-22</td>\n",
       "      <td>2016-01-02</td>\n",
       "      <td>2016-01-07</td>\n",
       "      <td>2016-02-21</td>\n",
       "      <td>9.41</td>\n",
       "      <td>5</td>\n",
       "      <td>47.05</td>\n",
       "      <td>1</td>\n",
       "    </tr>\n",
       "    <tr>\n",
       "      <th>3</th>\n",
       "      <td>1_HARDERSFIELD_5255</td>\n",
       "      <td>1</td>\n",
       "      <td>5255</td>\n",
       "      <td>TGI Fridays Ultimte Mudslide</td>\n",
       "      <td>1.75L</td>\n",
       "      <td>4466</td>\n",
       "      <td>AMERICAN VINTAGE BEVERAGE</td>\n",
       "      <td>8137</td>\n",
       "      <td>2015-12-22</td>\n",
       "      <td>2016-01-01</td>\n",
       "      <td>2016-01-07</td>\n",
       "      <td>2016-02-21</td>\n",
       "      <td>9.35</td>\n",
       "      <td>6</td>\n",
       "      <td>56.10</td>\n",
       "      <td>1</td>\n",
       "    </tr>\n",
       "    <tr>\n",
       "      <th>4</th>\n",
       "      <td>76_DONCASTER_2034</td>\n",
       "      <td>76</td>\n",
       "      <td>2034</td>\n",
       "      <td>Glendalough Double Barrel</td>\n",
       "      <td>750mL</td>\n",
       "      <td>388</td>\n",
       "      <td>ATLANTIC IMPORTING COMPANY</td>\n",
       "      <td>8169</td>\n",
       "      <td>2015-12-24</td>\n",
       "      <td>2016-01-02</td>\n",
       "      <td>2016-01-09</td>\n",
       "      <td>2016-02-16</td>\n",
       "      <td>21.32</td>\n",
       "      <td>5</td>\n",
       "      <td>106.60</td>\n",
       "      <td>1</td>\n",
       "    </tr>\n",
       "  </tbody>\n",
       "</table>\n",
       "</div>"
      ],
      "text/plain": [
       "           InventoryId  Store  Brand                   Description   Size  \\\n",
       "0    69_MOUNTMEND_8412     69   8412     Tequila Ocho Plata Fresno  750mL   \n",
       "1     30_CULCHETH_5255     30   5255  TGI Fridays Ultimte Mudslide  1.75L   \n",
       "2    34_PITMERDEN_5215     34   5215  TGI Fridays Long Island Iced  1.75L   \n",
       "3  1_HARDERSFIELD_5255      1   5255  TGI Fridays Ultimte Mudslide  1.75L   \n",
       "4    76_DONCASTER_2034     76   2034     Glendalough Double Barrel  750mL   \n",
       "\n",
       "   VendorNumber                   VendorName  PONumber      PODate  \\\n",
       "0           105  ALTAMAR BRANDS LLC               8124  2015-12-21   \n",
       "1          4466  AMERICAN VINTAGE BEVERAGE        8137  2015-12-22   \n",
       "2          4466  AMERICAN VINTAGE BEVERAGE        8137  2015-12-22   \n",
       "3          4466  AMERICAN VINTAGE BEVERAGE        8137  2015-12-22   \n",
       "4           388  ATLANTIC IMPORTING COMPANY       8169  2015-12-24   \n",
       "\n",
       "  ReceivingDate InvoiceDate     PayDate  PurchasePrice  Quantity  Dollars  \\\n",
       "0    2016-01-02  2016-01-04  2016-02-16          35.71         6   214.26   \n",
       "1    2016-01-01  2016-01-07  2016-02-21           9.35         4    37.40   \n",
       "2    2016-01-02  2016-01-07  2016-02-21           9.41         5    47.05   \n",
       "3    2016-01-01  2016-01-07  2016-02-21           9.35         6    56.10   \n",
       "4    2016-01-02  2016-01-09  2016-02-16          21.32         5   106.60   \n",
       "\n",
       "   Classification  \n",
       "0               1  \n",
       "1               1  \n",
       "2               1  \n",
       "3               1  \n",
       "4               1  "
      ]
     },
     "execution_count": 3,
     "metadata": {},
     "output_type": "execute_result"
    }
   ],
   "source": [
    "data = pd.read_csv('PurchasesFINAL12312016.csv')\n",
    "data.head()"
   ]
  },
  {
   "cell_type": "code",
   "execution_count": 4,
   "id": "4c04d4eb-bb2f-424d-9022-508ac635163e",
   "metadata": {},
   "outputs": [
    {
     "name": "stdout",
     "output_type": "stream",
     "text": [
      "<class 'pandas.core.frame.DataFrame'>\n",
      "RangeIndex: 2372474 entries, 0 to 2372473\n",
      "Data columns (total 16 columns):\n",
      " #   Column          Dtype  \n",
      "---  ------          -----  \n",
      " 0   InventoryId     object \n",
      " 1   Store           int64  \n",
      " 2   Brand           int64  \n",
      " 3   Description     object \n",
      " 4   Size            object \n",
      " 5   VendorNumber    int64  \n",
      " 6   VendorName      object \n",
      " 7   PONumber        int64  \n",
      " 8   PODate          object \n",
      " 9   ReceivingDate   object \n",
      " 10  InvoiceDate     object \n",
      " 11  PayDate         object \n",
      " 12  PurchasePrice   float64\n",
      " 13  Quantity        int64  \n",
      " 14  Dollars         float64\n",
      " 15  Classification  int64  \n",
      "dtypes: float64(2), int64(6), object(8)\n",
      "memory usage: 289.6+ MB\n"
     ]
    }
   ],
   "source": [
    "data.info()"
   ]
  },
  {
   "cell_type": "code",
   "execution_count": 5,
   "id": "18a08d1d-2655-4416-bd54-d1116fd09f26",
   "metadata": {},
   "outputs": [],
   "source": [
    "# Change Dtype"
   ]
  },
  {
   "cell_type": "code",
   "execution_count": 6,
   "id": "30214f51-eab7-476f-a4ce-13c66f9173ac",
   "metadata": {},
   "outputs": [],
   "source": [
    "df = data.copy()"
   ]
  },
  {
   "cell_type": "code",
   "execution_count": 7,
   "id": "3a6f84b7-5deb-434e-bb97-2187fc57b4d7",
   "metadata": {},
   "outputs": [
    {
     "data": {
      "text/plain": [
       "0         2015-12-21\n",
       "1         2015-12-22\n",
       "2         2015-12-22\n",
       "3         2015-12-22\n",
       "4         2015-12-24\n",
       "             ...    \n",
       "2372469   2016-12-19\n",
       "2372470   2016-12-19\n",
       "2372471   2016-12-19\n",
       "2372472   2016-12-19\n",
       "2372473   2016-12-19\n",
       "Name: PODate, Length: 2372474, dtype: datetime64[ns]"
      ]
     },
     "execution_count": 7,
     "metadata": {},
     "output_type": "execute_result"
    }
   ],
   "source": [
    "pd.to_datetime(df['PODate'])"
   ]
  },
  {
   "cell_type": "code",
   "execution_count": 8,
   "id": "557f2dfb-a971-425d-b473-083d3a6ac43c",
   "metadata": {},
   "outputs": [],
   "source": [
    "# Change to DateTime\n",
    "# Multiple columns: Apply pd.to_datetime to each column in the list"
   ]
  },
  {
   "cell_type": "code",
   "execution_count": 9,
   "id": "925a5722-541c-4e26-a358-bb2955c9a3a4",
   "metadata": {},
   "outputs": [],
   "source": [
    "date_col = ['PODate', 'ReceivingDate', 'InvoiceDate', 'PayDate']\n",
    "df[date_col] = df[date_col].apply(pd.to_datetime)"
   ]
  },
  {
   "cell_type": "code",
   "execution_count": 10,
   "id": "f9d8705b-c4e0-4bb2-954d-83cedbe90c54",
   "metadata": {},
   "outputs": [
    {
     "name": "stdout",
     "output_type": "stream",
     "text": [
      "<class 'pandas.core.frame.DataFrame'>\n",
      "RangeIndex: 2372474 entries, 0 to 2372473\n",
      "Data columns (total 16 columns):\n",
      " #   Column          Dtype         \n",
      "---  ------          -----         \n",
      " 0   InventoryId     object        \n",
      " 1   Store           int64         \n",
      " 2   Brand           int64         \n",
      " 3   Description     object        \n",
      " 4   Size            object        \n",
      " 5   VendorNumber    int64         \n",
      " 6   VendorName      object        \n",
      " 7   PONumber        int64         \n",
      " 8   PODate          datetime64[ns]\n",
      " 9   ReceivingDate   datetime64[ns]\n",
      " 10  InvoiceDate     datetime64[ns]\n",
      " 11  PayDate         datetime64[ns]\n",
      " 12  PurchasePrice   float64       \n",
      " 13  Quantity        int64         \n",
      " 14  Dollars         float64       \n",
      " 15  Classification  int64         \n",
      "dtypes: datetime64[ns](4), float64(2), int64(6), object(4)\n",
      "memory usage: 289.6+ MB\n"
     ]
    }
   ],
   "source": [
    "df.info()"
   ]
  },
  {
   "cell_type": "code",
   "execution_count": 11,
   "id": "bf6b6fcb-1d2b-41cc-ac5f-e258e4d6de0b",
   "metadata": {},
   "outputs": [],
   "source": [
    "# Change to Str"
   ]
  },
  {
   "cell_type": "code",
   "execution_count": 12,
   "id": "6ff393ba-2cf5-487e-85ce-4a67ebfa5be1",
   "metadata": {},
   "outputs": [],
   "source": [
    "str_col = ['Store', 'Brand', 'VendorNumber', 'PONumber', 'Classification']\n",
    "df[str_col] = df[str_col].astype(str)"
   ]
  },
  {
   "cell_type": "code",
   "execution_count": 13,
   "id": "ec0f6d0e-a04b-4b37-82ba-d3ab710c99a7",
   "metadata": {},
   "outputs": [
    {
     "name": "stdout",
     "output_type": "stream",
     "text": [
      "<class 'pandas.core.frame.DataFrame'>\n",
      "RangeIndex: 2372474 entries, 0 to 2372473\n",
      "Data columns (total 16 columns):\n",
      " #   Column          Dtype         \n",
      "---  ------          -----         \n",
      " 0   InventoryId     object        \n",
      " 1   Store           object        \n",
      " 2   Brand           object        \n",
      " 3   Description     object        \n",
      " 4   Size            object        \n",
      " 5   VendorNumber    object        \n",
      " 6   VendorName      object        \n",
      " 7   PONumber        object        \n",
      " 8   PODate          datetime64[ns]\n",
      " 9   ReceivingDate   datetime64[ns]\n",
      " 10  InvoiceDate     datetime64[ns]\n",
      " 11  PayDate         datetime64[ns]\n",
      " 12  PurchasePrice   float64       \n",
      " 13  Quantity        int64         \n",
      " 14  Dollars         float64       \n",
      " 15  Classification  object        \n",
      "dtypes: datetime64[ns](4), float64(2), int64(1), object(9)\n",
      "memory usage: 289.6+ MB\n"
     ]
    }
   ],
   "source": [
    "df.info()"
   ]
  },
  {
   "cell_type": "code",
   "execution_count": 14,
   "id": "41d23d54-f5ef-478c-929d-c770293f6e75",
   "metadata": {},
   "outputs": [],
   "source": [
    "# Feature Engineering"
   ]
  },
  {
   "cell_type": "code",
   "execution_count": 15,
   "id": "4f5057f2-fd46-4177-a4ca-7d9094024dc2",
   "metadata": {},
   "outputs": [],
   "source": [
    "#  1. Lead Time(상품 생산 시작부터 완성까지 걸리는 시간)\n",
    "# Lead Time = Invoice Date - PO Delivery Date\n",
    "# Change Dtypes: Timedelta -> integer"
   ]
  },
  {
   "cell_type": "code",
   "execution_count": 16,
   "id": "ded0cfcb-9f4d-4c82-818c-45bd356a25cb",
   "metadata": {},
   "outputs": [
    {
     "data": {
      "text/plain": [
       "0           2\n",
       "1           6\n",
       "2           5\n",
       "3           6\n",
       "4           7\n",
       "           ..\n",
       "2372469    12\n",
       "2372470    13\n",
       "2372471    14\n",
       "2372472    14\n",
       "2372473    12\n",
       "Length: 2372474, dtype: int64"
      ]
     },
     "execution_count": 16,
     "metadata": {},
     "output_type": "execute_result"
    }
   ],
   "source": [
    "(df['InvoiceDate'] - df['ReceivingDate']).dt.days"
   ]
  },
  {
   "cell_type": "code",
   "execution_count": 17,
   "id": "23de4339-66c4-4de8-8b03-e7f1a2744466",
   "metadata": {},
   "outputs": [],
   "source": [
    "# Change Dtypes: Timedelta -> integer\n",
    "df['LeadTime'] = (df['InvoiceDate'] - df['ReceivingDate']).dt.days"
   ]
  },
  {
   "cell_type": "code",
   "execution_count": 18,
   "id": "3acc927c-9d1d-4038-9eb6-990d4b789101",
   "metadata": {},
   "outputs": [
    {
     "data": {
      "text/html": [
       "<div>\n",
       "<style scoped>\n",
       "    .dataframe tbody tr th:only-of-type {\n",
       "        vertical-align: middle;\n",
       "    }\n",
       "\n",
       "    .dataframe tbody tr th {\n",
       "        vertical-align: top;\n",
       "    }\n",
       "\n",
       "    .dataframe thead th {\n",
       "        text-align: right;\n",
       "    }\n",
       "</style>\n",
       "<table border=\"1\" class=\"dataframe\">\n",
       "  <thead>\n",
       "    <tr style=\"text-align: right;\">\n",
       "      <th></th>\n",
       "      <th>InvoiceDate</th>\n",
       "      <th>ReceivingDate</th>\n",
       "      <th>LeadTime</th>\n",
       "    </tr>\n",
       "  </thead>\n",
       "  <tbody>\n",
       "    <tr>\n",
       "      <th>0</th>\n",
       "      <td>2016-01-04</td>\n",
       "      <td>2016-01-02</td>\n",
       "      <td>2</td>\n",
       "    </tr>\n",
       "    <tr>\n",
       "      <th>1</th>\n",
       "      <td>2016-01-07</td>\n",
       "      <td>2016-01-01</td>\n",
       "      <td>6</td>\n",
       "    </tr>\n",
       "    <tr>\n",
       "      <th>2</th>\n",
       "      <td>2016-01-07</td>\n",
       "      <td>2016-01-02</td>\n",
       "      <td>5</td>\n",
       "    </tr>\n",
       "    <tr>\n",
       "      <th>3</th>\n",
       "      <td>2016-01-07</td>\n",
       "      <td>2016-01-01</td>\n",
       "      <td>6</td>\n",
       "    </tr>\n",
       "    <tr>\n",
       "      <th>4</th>\n",
       "      <td>2016-01-09</td>\n",
       "      <td>2016-01-02</td>\n",
       "      <td>7</td>\n",
       "    </tr>\n",
       "  </tbody>\n",
       "</table>\n",
       "</div>"
      ],
      "text/plain": [
       "  InvoiceDate ReceivingDate  LeadTime\n",
       "0  2016-01-04    2016-01-02         2\n",
       "1  2016-01-07    2016-01-01         6\n",
       "2  2016-01-07    2016-01-02         5\n",
       "3  2016-01-07    2016-01-01         6\n",
       "4  2016-01-09    2016-01-02         7"
      ]
     },
     "execution_count": 18,
     "metadata": {},
     "output_type": "execute_result"
    }
   ],
   "source": [
    "df[['InvoiceDate', 'ReceivingDate', 'LeadTime']].head()"
   ]
  },
  {
   "cell_type": "code",
   "execution_count": 19,
   "id": "af5c688f-00e3-4ed4-94ab-73a6dedcee43",
   "metadata": {},
   "outputs": [
    {
     "data": {
      "text/plain": [
       "count    2.372474e+06\n",
       "mean     8.872578e+00\n",
       "std      2.975602e+00\n",
       "min      1.000000e+00\n",
       "25%      7.000000e+00\n",
       "50%      9.000000e+00\n",
       "75%      1.100000e+01\n",
       "max      1.500000e+01\n",
       "Name: LeadTime, dtype: float64"
      ]
     },
     "execution_count": 19,
     "metadata": {},
     "output_type": "execute_result"
    }
   ],
   "source": [
    "df['LeadTime'].describe()"
   ]
  },
  {
   "cell_type": "code",
   "execution_count": 20,
   "id": "f4e27ed1-c5e8-4bce-b052-0a5f85b9cfc1",
   "metadata": {},
   "outputs": [],
   "source": [
    "#  2. Order TIme(Lead TIme)\n",
    "# Order Time(Lead Time) = PO Delivery Date - Purchase Date\n",
    "# Change Dtypes: Timedelta -> integer: dt.days"
   ]
  },
  {
   "cell_type": "code",
   "execution_count": 21,
   "id": "52fdf0b7-81b7-4e6c-83ca-dbde120a8e13",
   "metadata": {},
   "outputs": [],
   "source": [
    "df['OrderTime'] = (df['ReceivingDate'] - df['PODate']).dt.days"
   ]
  },
  {
   "cell_type": "code",
   "execution_count": 22,
   "id": "85d7c493-a7c4-486d-8ee9-95c8526c60fb",
   "metadata": {},
   "outputs": [
    {
     "data": {
      "text/html": [
       "<div>\n",
       "<style scoped>\n",
       "    .dataframe tbody tr th:only-of-type {\n",
       "        vertical-align: middle;\n",
       "    }\n",
       "\n",
       "    .dataframe tbody tr th {\n",
       "        vertical-align: top;\n",
       "    }\n",
       "\n",
       "    .dataframe thead th {\n",
       "        text-align: right;\n",
       "    }\n",
       "</style>\n",
       "<table border=\"1\" class=\"dataframe\">\n",
       "  <thead>\n",
       "    <tr style=\"text-align: right;\">\n",
       "      <th></th>\n",
       "      <th>PODate</th>\n",
       "      <th>ReceivingDate</th>\n",
       "      <th>OrderTime</th>\n",
       "    </tr>\n",
       "  </thead>\n",
       "  <tbody>\n",
       "    <tr>\n",
       "      <th>0</th>\n",
       "      <td>2015-12-21</td>\n",
       "      <td>2016-01-02</td>\n",
       "      <td>12</td>\n",
       "    </tr>\n",
       "    <tr>\n",
       "      <th>1</th>\n",
       "      <td>2015-12-22</td>\n",
       "      <td>2016-01-01</td>\n",
       "      <td>10</td>\n",
       "    </tr>\n",
       "    <tr>\n",
       "      <th>2</th>\n",
       "      <td>2015-12-22</td>\n",
       "      <td>2016-01-02</td>\n",
       "      <td>11</td>\n",
       "    </tr>\n",
       "    <tr>\n",
       "      <th>3</th>\n",
       "      <td>2015-12-22</td>\n",
       "      <td>2016-01-01</td>\n",
       "      <td>10</td>\n",
       "    </tr>\n",
       "    <tr>\n",
       "      <th>4</th>\n",
       "      <td>2015-12-24</td>\n",
       "      <td>2016-01-02</td>\n",
       "      <td>9</td>\n",
       "    </tr>\n",
       "  </tbody>\n",
       "</table>\n",
       "</div>"
      ],
      "text/plain": [
       "      PODate ReceivingDate  OrderTime\n",
       "0 2015-12-21    2016-01-02         12\n",
       "1 2015-12-22    2016-01-01         10\n",
       "2 2015-12-22    2016-01-02         11\n",
       "3 2015-12-22    2016-01-01         10\n",
       "4 2015-12-24    2016-01-02          9"
      ]
     },
     "execution_count": 22,
     "metadata": {},
     "output_type": "execute_result"
    }
   ],
   "source": [
    "df[['PODate', 'ReceivingDate', 'OrderTime']].head()"
   ]
  },
  {
   "cell_type": "code",
   "execution_count": 23,
   "id": "904ec342-137c-4b2e-aa3b-0ba2dbf19220",
   "metadata": {},
   "outputs": [
    {
     "data": {
      "text/plain": [
       "count    2.372474e+06\n",
       "mean     7.620739e+00\n",
       "std      2.208890e+00\n",
       "min      3.000000e+00\n",
       "25%      6.000000e+00\n",
       "50%      8.000000e+00\n",
       "75%      9.000000e+00\n",
       "max      1.400000e+01\n",
       "Name: OrderTime, dtype: float64"
      ]
     },
     "execution_count": 23,
     "metadata": {},
     "output_type": "execute_result"
    }
   ],
   "source": [
    "df['OrderTime'].describe()"
   ]
  },
  {
   "cell_type": "code",
   "execution_count": 24,
   "id": "f1480fc8-e320-4f5f-b528-6d07b942dc39",
   "metadata": {},
   "outputs": [],
   "source": [
    "# \"\"\"Red Flags: Invoice Issued Before Delivery: If the invoice date is earlier than the delivery date, this could be a data entry error or indicate that the invoice was issude prematurely(before goods/services were delivered), which could be a red flag for some businesses\"\"\"\n",
    "# \"\"적색 신호: 배송 전에 발행된 송장: 송장 날짜가 배송 날짜보다 빠른 경우, 이는 데이터 입력 오류이거나 송장이 너무 일찍 발행되었음을 나타내거나(상품/서비스가 배송되기 전에) 일부 비즈니스에 위험 신호가 될 수 있습니다.\"\"\"\""
   ]
  },
  {
   "cell_type": "code",
   "execution_count": 25,
   "id": "37c27456-1527-412b-95f8-eb2f152961c8",
   "metadata": {},
   "outputs": [
    {
     "data": {
      "text/plain": [
       "False    2372474\n",
       "Name: count, dtype: int64"
      ]
     },
     "execution_count": 25,
     "metadata": {},
     "output_type": "execute_result"
    }
   ],
   "source": [
    "((df['InvoiceDate'] - df['ReceivingDate']) < pd.Timedelta(0)).value_counts() "
   ]
  },
  {
   "cell_type": "code",
   "execution_count": 26,
   "id": "852d0457-13b3-4b1f-99b9-d9844920e803",
   "metadata": {},
   "outputs": [],
   "source": [
    "# 3. Payment Lead Time\n",
    "# Payment Lead Time = PayDate - InvoiceDate\n",
    "# Change Dtypes: Timedelta -> integer: dt.days"
   ]
  },
  {
   "cell_type": "code",
   "execution_count": 27,
   "id": "58dddc8c-cb30-4c90-a423-e87f693d5298",
   "metadata": {},
   "outputs": [],
   "source": [
    "df['PaymentLT'] = (df['PayDate'] - df['InvoiceDate']).dt.days"
   ]
  },
  {
   "cell_type": "code",
   "execution_count": 28,
   "id": "8ed1c99d-687a-46b7-88b7-68b6630b63b6",
   "metadata": {},
   "outputs": [
    {
     "data": {
      "text/plain": [
       "count    2.372474e+06\n",
       "mean     3.565881e+01\n",
       "std      6.062932e+00\n",
       "min      2.300000e+01\n",
       "25%      3.100000e+01\n",
       "50%      3.600000e+01\n",
       "75%      4.100000e+01\n",
       "max      4.800000e+01\n",
       "Name: PaymentLT, dtype: float64"
      ]
     },
     "execution_count": 28,
     "metadata": {},
     "output_type": "execute_result"
    }
   ],
   "source": [
    "df['PaymentLT'].describe()"
   ]
  },
  {
   "cell_type": "code",
   "execution_count": 29,
   "id": "42a7b983-4db1-4bdb-9a4e-bdc4858de1d7",
   "metadata": {},
   "outputs": [
    {
     "name": "stdout",
     "output_type": "stream",
     "text": [
      "<class 'pandas.core.frame.DataFrame'>\n",
      "RangeIndex: 2372474 entries, 0 to 2372473\n",
      "Data columns (total 19 columns):\n",
      " #   Column          Dtype         \n",
      "---  ------          -----         \n",
      " 0   InventoryId     object        \n",
      " 1   Store           object        \n",
      " 2   Brand           object        \n",
      " 3   Description     object        \n",
      " 4   Size            object        \n",
      " 5   VendorNumber    object        \n",
      " 6   VendorName      object        \n",
      " 7   PONumber        object        \n",
      " 8   PODate          datetime64[ns]\n",
      " 9   ReceivingDate   datetime64[ns]\n",
      " 10  InvoiceDate     datetime64[ns]\n",
      " 11  PayDate         datetime64[ns]\n",
      " 12  PurchasePrice   float64       \n",
      " 13  Quantity        int64         \n",
      " 14  Dollars         float64       \n",
      " 15  Classification  object        \n",
      " 16  LeadTime        int64         \n",
      " 17  OrderTime       int64         \n",
      " 18  PaymentLT       int64         \n",
      "dtypes: datetime64[ns](4), float64(2), int64(4), object(9)\n",
      "memory usage: 343.9+ MB\n"
     ]
    }
   ],
   "source": [
    "df.info()"
   ]
  },
  {
   "cell_type": "code",
   "execution_count": 30,
   "id": "0207630d-4369-407f-98d1-1e2b37b2f5a7",
   "metadata": {},
   "outputs": [],
   "source": [
    "# Text Split - Inventory ID"
   ]
  },
  {
   "cell_type": "code",
   "execution_count": 31,
   "id": "3aa5f375-b131-423e-9be5-651457a2a0ea",
   "metadata": {},
   "outputs": [
    {
     "data": {
      "text/html": [
       "<div>\n",
       "<style scoped>\n",
       "    .dataframe tbody tr th:only-of-type {\n",
       "        vertical-align: middle;\n",
       "    }\n",
       "\n",
       "    .dataframe tbody tr th {\n",
       "        vertical-align: top;\n",
       "    }\n",
       "\n",
       "    .dataframe thead th {\n",
       "        text-align: right;\n",
       "    }\n",
       "</style>\n",
       "<table border=\"1\" class=\"dataframe\">\n",
       "  <thead>\n",
       "    <tr style=\"text-align: right;\">\n",
       "      <th></th>\n",
       "      <th>0</th>\n",
       "      <th>1</th>\n",
       "      <th>2</th>\n",
       "    </tr>\n",
       "  </thead>\n",
       "  <tbody>\n",
       "    <tr>\n",
       "      <th>0</th>\n",
       "      <td>69</td>\n",
       "      <td>MOUNTMEND</td>\n",
       "      <td>8412</td>\n",
       "    </tr>\n",
       "    <tr>\n",
       "      <th>1</th>\n",
       "      <td>30</td>\n",
       "      <td>CULCHETH</td>\n",
       "      <td>5255</td>\n",
       "    </tr>\n",
       "    <tr>\n",
       "      <th>2</th>\n",
       "      <td>34</td>\n",
       "      <td>PITMERDEN</td>\n",
       "      <td>5215</td>\n",
       "    </tr>\n",
       "    <tr>\n",
       "      <th>3</th>\n",
       "      <td>1</td>\n",
       "      <td>HARDERSFIELD</td>\n",
       "      <td>5255</td>\n",
       "    </tr>\n",
       "    <tr>\n",
       "      <th>4</th>\n",
       "      <td>76</td>\n",
       "      <td>DONCASTER</td>\n",
       "      <td>2034</td>\n",
       "    </tr>\n",
       "    <tr>\n",
       "      <th>...</th>\n",
       "      <td>...</td>\n",
       "      <td>...</td>\n",
       "      <td>...</td>\n",
       "    </tr>\n",
       "    <tr>\n",
       "      <th>2372469</th>\n",
       "      <td>49</td>\n",
       "      <td>GARIGILL</td>\n",
       "      <td>22298</td>\n",
       "    </tr>\n",
       "    <tr>\n",
       "      <th>2372470</th>\n",
       "      <td>1</td>\n",
       "      <td>HARDERSFIELD</td>\n",
       "      <td>19556</td>\n",
       "    </tr>\n",
       "    <tr>\n",
       "      <th>2372471</th>\n",
       "      <td>66</td>\n",
       "      <td>EANVERNESS</td>\n",
       "      <td>22297</td>\n",
       "    </tr>\n",
       "    <tr>\n",
       "      <th>2372472</th>\n",
       "      <td>69</td>\n",
       "      <td>MOUNTMEND</td>\n",
       "      <td>19557</td>\n",
       "    </tr>\n",
       "    <tr>\n",
       "      <th>2372473</th>\n",
       "      <td>55</td>\n",
       "      <td>DRY GULCH</td>\n",
       "      <td>22298</td>\n",
       "    </tr>\n",
       "  </tbody>\n",
       "</table>\n",
       "<p>2372474 rows × 3 columns</p>\n",
       "</div>"
      ],
      "text/plain": [
       "          0             1      2\n",
       "0        69     MOUNTMEND   8412\n",
       "1        30      CULCHETH   5255\n",
       "2        34     PITMERDEN   5215\n",
       "3         1  HARDERSFIELD   5255\n",
       "4        76     DONCASTER   2034\n",
       "...      ..           ...    ...\n",
       "2372469  49      GARIGILL  22298\n",
       "2372470   1  HARDERSFIELD  19556\n",
       "2372471  66    EANVERNESS  22297\n",
       "2372472  69     MOUNTMEND  19557\n",
       "2372473  55     DRY GULCH  22298\n",
       "\n",
       "[2372474 rows x 3 columns]"
      ]
     },
     "execution_count": 31,
     "metadata": {},
     "output_type": "execute_result"
    }
   ],
   "source": [
    "# Split by '_'\n",
    "#### Split by '_' and expand into separate columns\n",
    "df['InventoryId'].str.split('_', expand = True)"
   ]
  },
  {
   "cell_type": "code",
   "execution_count": 32,
   "id": "6f6b6af5-3ab5-473a-a47b-5f205fdb1919",
   "metadata": {},
   "outputs": [],
   "source": [
    "df[['Split_1', 'InventoryCategory', 'Split_3']] = df['InventoryId'].str.split('_', expand = True)"
   ]
  },
  {
   "cell_type": "code",
   "execution_count": 33,
   "id": "3e48fe88-0d19-4e5d-a4fc-f52256ce0be6",
   "metadata": {},
   "outputs": [
    {
     "data": {
      "text/html": [
       "<div>\n",
       "<style scoped>\n",
       "    .dataframe tbody tr th:only-of-type {\n",
       "        vertical-align: middle;\n",
       "    }\n",
       "\n",
       "    .dataframe tbody tr th {\n",
       "        vertical-align: top;\n",
       "    }\n",
       "\n",
       "    .dataframe thead th {\n",
       "        text-align: right;\n",
       "    }\n",
       "</style>\n",
       "<table border=\"1\" class=\"dataframe\">\n",
       "  <thead>\n",
       "    <tr style=\"text-align: right;\">\n",
       "      <th></th>\n",
       "      <th>InventoryId</th>\n",
       "      <th>Store</th>\n",
       "      <th>Brand</th>\n",
       "      <th>Description</th>\n",
       "      <th>Size</th>\n",
       "      <th>VendorNumber</th>\n",
       "      <th>VendorName</th>\n",
       "      <th>PONumber</th>\n",
       "      <th>PODate</th>\n",
       "      <th>ReceivingDate</th>\n",
       "      <th>...</th>\n",
       "      <th>PurchasePrice</th>\n",
       "      <th>Quantity</th>\n",
       "      <th>Dollars</th>\n",
       "      <th>Classification</th>\n",
       "      <th>LeadTime</th>\n",
       "      <th>OrderTime</th>\n",
       "      <th>PaymentLT</th>\n",
       "      <th>Split_1</th>\n",
       "      <th>InventoryCategory</th>\n",
       "      <th>Split_3</th>\n",
       "    </tr>\n",
       "  </thead>\n",
       "  <tbody>\n",
       "    <tr>\n",
       "      <th>0</th>\n",
       "      <td>69_MOUNTMEND_8412</td>\n",
       "      <td>69</td>\n",
       "      <td>8412</td>\n",
       "      <td>Tequila Ocho Plata Fresno</td>\n",
       "      <td>750mL</td>\n",
       "      <td>105</td>\n",
       "      <td>ALTAMAR BRANDS LLC</td>\n",
       "      <td>8124</td>\n",
       "      <td>2015-12-21</td>\n",
       "      <td>2016-01-02</td>\n",
       "      <td>...</td>\n",
       "      <td>35.71</td>\n",
       "      <td>6</td>\n",
       "      <td>214.26</td>\n",
       "      <td>1</td>\n",
       "      <td>2</td>\n",
       "      <td>12</td>\n",
       "      <td>43</td>\n",
       "      <td>69</td>\n",
       "      <td>MOUNTMEND</td>\n",
       "      <td>8412</td>\n",
       "    </tr>\n",
       "    <tr>\n",
       "      <th>1</th>\n",
       "      <td>30_CULCHETH_5255</td>\n",
       "      <td>30</td>\n",
       "      <td>5255</td>\n",
       "      <td>TGI Fridays Ultimte Mudslide</td>\n",
       "      <td>1.75L</td>\n",
       "      <td>4466</td>\n",
       "      <td>AMERICAN VINTAGE BEVERAGE</td>\n",
       "      <td>8137</td>\n",
       "      <td>2015-12-22</td>\n",
       "      <td>2016-01-01</td>\n",
       "      <td>...</td>\n",
       "      <td>9.35</td>\n",
       "      <td>4</td>\n",
       "      <td>37.40</td>\n",
       "      <td>1</td>\n",
       "      <td>6</td>\n",
       "      <td>10</td>\n",
       "      <td>45</td>\n",
       "      <td>30</td>\n",
       "      <td>CULCHETH</td>\n",
       "      <td>5255</td>\n",
       "    </tr>\n",
       "    <tr>\n",
       "      <th>2</th>\n",
       "      <td>34_PITMERDEN_5215</td>\n",
       "      <td>34</td>\n",
       "      <td>5215</td>\n",
       "      <td>TGI Fridays Long Island Iced</td>\n",
       "      <td>1.75L</td>\n",
       "      <td>4466</td>\n",
       "      <td>AMERICAN VINTAGE BEVERAGE</td>\n",
       "      <td>8137</td>\n",
       "      <td>2015-12-22</td>\n",
       "      <td>2016-01-02</td>\n",
       "      <td>...</td>\n",
       "      <td>9.41</td>\n",
       "      <td>5</td>\n",
       "      <td>47.05</td>\n",
       "      <td>1</td>\n",
       "      <td>5</td>\n",
       "      <td>11</td>\n",
       "      <td>45</td>\n",
       "      <td>34</td>\n",
       "      <td>PITMERDEN</td>\n",
       "      <td>5215</td>\n",
       "    </tr>\n",
       "    <tr>\n",
       "      <th>3</th>\n",
       "      <td>1_HARDERSFIELD_5255</td>\n",
       "      <td>1</td>\n",
       "      <td>5255</td>\n",
       "      <td>TGI Fridays Ultimte Mudslide</td>\n",
       "      <td>1.75L</td>\n",
       "      <td>4466</td>\n",
       "      <td>AMERICAN VINTAGE BEVERAGE</td>\n",
       "      <td>8137</td>\n",
       "      <td>2015-12-22</td>\n",
       "      <td>2016-01-01</td>\n",
       "      <td>...</td>\n",
       "      <td>9.35</td>\n",
       "      <td>6</td>\n",
       "      <td>56.10</td>\n",
       "      <td>1</td>\n",
       "      <td>6</td>\n",
       "      <td>10</td>\n",
       "      <td>45</td>\n",
       "      <td>1</td>\n",
       "      <td>HARDERSFIELD</td>\n",
       "      <td>5255</td>\n",
       "    </tr>\n",
       "    <tr>\n",
       "      <th>4</th>\n",
       "      <td>76_DONCASTER_2034</td>\n",
       "      <td>76</td>\n",
       "      <td>2034</td>\n",
       "      <td>Glendalough Double Barrel</td>\n",
       "      <td>750mL</td>\n",
       "      <td>388</td>\n",
       "      <td>ATLANTIC IMPORTING COMPANY</td>\n",
       "      <td>8169</td>\n",
       "      <td>2015-12-24</td>\n",
       "      <td>2016-01-02</td>\n",
       "      <td>...</td>\n",
       "      <td>21.32</td>\n",
       "      <td>5</td>\n",
       "      <td>106.60</td>\n",
       "      <td>1</td>\n",
       "      <td>7</td>\n",
       "      <td>9</td>\n",
       "      <td>38</td>\n",
       "      <td>76</td>\n",
       "      <td>DONCASTER</td>\n",
       "      <td>2034</td>\n",
       "    </tr>\n",
       "  </tbody>\n",
       "</table>\n",
       "<p>5 rows × 22 columns</p>\n",
       "</div>"
      ],
      "text/plain": [
       "           InventoryId Store Brand                   Description   Size  \\\n",
       "0    69_MOUNTMEND_8412    69  8412     Tequila Ocho Plata Fresno  750mL   \n",
       "1     30_CULCHETH_5255    30  5255  TGI Fridays Ultimte Mudslide  1.75L   \n",
       "2    34_PITMERDEN_5215    34  5215  TGI Fridays Long Island Iced  1.75L   \n",
       "3  1_HARDERSFIELD_5255     1  5255  TGI Fridays Ultimte Mudslide  1.75L   \n",
       "4    76_DONCASTER_2034    76  2034     Glendalough Double Barrel  750mL   \n",
       "\n",
       "  VendorNumber                   VendorName PONumber     PODate ReceivingDate  \\\n",
       "0          105  ALTAMAR BRANDS LLC              8124 2015-12-21    2016-01-02   \n",
       "1         4466  AMERICAN VINTAGE BEVERAGE       8137 2015-12-22    2016-01-01   \n",
       "2         4466  AMERICAN VINTAGE BEVERAGE       8137 2015-12-22    2016-01-02   \n",
       "3         4466  AMERICAN VINTAGE BEVERAGE       8137 2015-12-22    2016-01-01   \n",
       "4          388  ATLANTIC IMPORTING COMPANY      8169 2015-12-24    2016-01-02   \n",
       "\n",
       "   ... PurchasePrice Quantity  Dollars  Classification  LeadTime OrderTime  \\\n",
       "0  ...         35.71        6   214.26               1         2        12   \n",
       "1  ...          9.35        4    37.40               1         6        10   \n",
       "2  ...          9.41        5    47.05               1         5        11   \n",
       "3  ...          9.35        6    56.10               1         6        10   \n",
       "4  ...         21.32        5   106.60               1         7         9   \n",
       "\n",
       "   PaymentLT  Split_1  InventoryCategory Split_3  \n",
       "0         43       69          MOUNTMEND    8412  \n",
       "1         45       30           CULCHETH    5255  \n",
       "2         45       34          PITMERDEN    5215  \n",
       "3         45        1       HARDERSFIELD    5255  \n",
       "4         38       76          DONCASTER    2034  \n",
       "\n",
       "[5 rows x 22 columns]"
      ]
     },
     "execution_count": 33,
     "metadata": {},
     "output_type": "execute_result"
    }
   ],
   "source": [
    "df.head()"
   ]
  },
  {
   "cell_type": "code",
   "execution_count": 34,
   "id": "27da30ee-c23c-4bbe-98e4-590f9cbe1bd2",
   "metadata": {},
   "outputs": [],
   "source": [
    "# Drop columns\n",
    "\n",
    "df = df.drop(columns = ['Split_1', 'Split_3'])"
   ]
  },
  {
   "cell_type": "code",
   "execution_count": 35,
   "id": "69b7072c-712f-4f79-a732-c8ee19603545",
   "metadata": {},
   "outputs": [
    {
     "data": {
      "text/plain": [
       "Index(['InventoryId', 'Store', 'Brand', 'Description', 'Size', 'VendorNumber',\n",
       "       'VendorName', 'PONumber', 'PODate', 'ReceivingDate', 'InvoiceDate',\n",
       "       'PayDate', 'PurchasePrice', 'Quantity', 'Dollars', 'Classification',\n",
       "       'LeadTime', 'OrderTime', 'PaymentLT', 'InventoryCategory'],\n",
       "      dtype='object')"
      ]
     },
     "execution_count": 35,
     "metadata": {},
     "output_type": "execute_result"
    }
   ],
   "source": [
    "df.columns"
   ]
  },
  {
   "cell_type": "code",
   "execution_count": 36,
   "id": "94e6e653-c03b-4bdc-9bb5-ccd7c6c0ee5f",
   "metadata": {},
   "outputs": [
    {
     "data": {
      "text/plain": [
       "InventoryCategory\n",
       "DONCASTER       217917\n",
       "MOUNTMEND       182223\n",
       "EANVERNESS      166601\n",
       "GOULCREST       132805\n",
       "HORNSEY         100801\n",
       "                 ...  \n",
       "LEWES             6666\n",
       "AYLESBURY         5379\n",
       "TYWARDREATH       4087\n",
       "KNIFE'S EDGE      3974\n",
       "                  1726\n",
       "Name: count, Length: 69, dtype: int64"
      ]
     },
     "execution_count": 36,
     "metadata": {},
     "output_type": "execute_result"
    }
   ],
   "source": [
    "df['InventoryCategory'].value_counts()"
   ]
  },
  {
   "cell_type": "code",
   "execution_count": 37,
   "id": "788c11a8-1bc1-4c67-af4e-5992943f43a9",
   "metadata": {},
   "outputs": [],
   "source": [
    "# Check Null Value"
   ]
  },
  {
   "cell_type": "code",
   "execution_count": 38,
   "id": "430fcd01-baae-471e-9c1f-d692ec52c6dc",
   "metadata": {},
   "outputs": [
    {
     "data": {
      "text/plain": [
       "InventoryCategory\n",
       "False    2372474\n",
       "Name: count, dtype: int64"
      ]
     },
     "execution_count": 38,
     "metadata": {},
     "output_type": "execute_result"
    }
   ],
   "source": [
    "df['InventoryCategory'].isna().value_counts()"
   ]
  },
  {
   "cell_type": "code",
   "execution_count": 39,
   "id": "f5b8f142-f58b-411c-9aec-71b02de7342f",
   "metadata": {},
   "outputs": [
    {
     "data": {
      "text/plain": [
       "InventoryCategory\n",
       "False    2370748\n",
       "True        1726\n",
       "Name: count, dtype: int64"
      ]
     },
     "execution_count": 39,
     "metadata": {},
     "output_type": "execute_result"
    }
   ],
   "source": [
    "# Check '' value\n",
    "(df['InventoryCategory'] == '').value_counts()"
   ]
  },
  {
   "cell_type": "code",
   "execution_count": 40,
   "id": "e39f01bc-25f6-4d51-8c9c-09f47f8599d2",
   "metadata": {},
   "outputs": [
    {
     "data": {
      "text/html": [
       "<div>\n",
       "<style scoped>\n",
       "    .dataframe tbody tr th:only-of-type {\n",
       "        vertical-align: middle;\n",
       "    }\n",
       "\n",
       "    .dataframe tbody tr th {\n",
       "        vertical-align: top;\n",
       "    }\n",
       "\n",
       "    .dataframe thead th {\n",
       "        text-align: right;\n",
       "    }\n",
       "</style>\n",
       "<table border=\"1\" class=\"dataframe\">\n",
       "  <thead>\n",
       "    <tr style=\"text-align: right;\">\n",
       "      <th></th>\n",
       "      <th>InventoryId</th>\n",
       "      <th>InventoryCategory</th>\n",
       "    </tr>\n",
       "  </thead>\n",
       "  <tbody>\n",
       "    <tr>\n",
       "      <th>983466</th>\n",
       "      <td>46__5255</td>\n",
       "      <td></td>\n",
       "    </tr>\n",
       "    <tr>\n",
       "      <th>983474</th>\n",
       "      <td>46__5215</td>\n",
       "      <td></td>\n",
       "    </tr>\n",
       "    <tr>\n",
       "      <th>983510</th>\n",
       "      <td>46__3472</td>\n",
       "      <td></td>\n",
       "    </tr>\n",
       "    <tr>\n",
       "      <th>983534</th>\n",
       "      <td>46__4075</td>\n",
       "      <td></td>\n",
       "    </tr>\n",
       "    <tr>\n",
       "      <th>983559</th>\n",
       "      <td>46__4179</td>\n",
       "      <td></td>\n",
       "    </tr>\n",
       "    <tr>\n",
       "      <th>...</th>\n",
       "      <td>...</td>\n",
       "      <td>...</td>\n",
       "    </tr>\n",
       "    <tr>\n",
       "      <th>1544209</th>\n",
       "      <td>81__23289</td>\n",
       "      <td></td>\n",
       "    </tr>\n",
       "    <tr>\n",
       "      <th>1544249</th>\n",
       "      <td>81__23325</td>\n",
       "      <td></td>\n",
       "    </tr>\n",
       "    <tr>\n",
       "      <th>1544319</th>\n",
       "      <td>81__23286</td>\n",
       "      <td></td>\n",
       "    </tr>\n",
       "    <tr>\n",
       "      <th>1544402</th>\n",
       "      <td>81__23324</td>\n",
       "      <td></td>\n",
       "    </tr>\n",
       "    <tr>\n",
       "      <th>1549208</th>\n",
       "      <td>81__15971</td>\n",
       "      <td></td>\n",
       "    </tr>\n",
       "  </tbody>\n",
       "</table>\n",
       "<p>1726 rows × 2 columns</p>\n",
       "</div>"
      ],
      "text/plain": [
       "        InventoryId InventoryCategory\n",
       "983466     46__5255                  \n",
       "983474     46__5215                  \n",
       "983510     46__3472                  \n",
       "983534     46__4075                  \n",
       "983559     46__4179                  \n",
       "...             ...               ...\n",
       "1544209   81__23289                  \n",
       "1544249   81__23325                  \n",
       "1544319   81__23286                  \n",
       "1544402   81__23324                  \n",
       "1549208   81__15971                  \n",
       "\n",
       "[1726 rows x 2 columns]"
      ]
     },
     "execution_count": 40,
     "metadata": {},
     "output_type": "execute_result"
    }
   ],
   "source": [
    "df[df['InventoryCategory'] == ''][['InventoryId', 'InventoryCategory']]"
   ]
  },
  {
   "cell_type": "code",
   "execution_count": 41,
   "id": "e48045ad-2a10-4f77-bfbc-ab05d53278f2",
   "metadata": {},
   "outputs": [],
   "source": [
    "# Drop '' empty string value"
   ]
  },
  {
   "cell_type": "code",
   "execution_count": 42,
   "id": "d38b8ce0-ca25-492b-af48-358f803f1228",
   "metadata": {},
   "outputs": [],
   "source": [
    "df1 = df.copy()"
   ]
  },
  {
   "cell_type": "code",
   "execution_count": 43,
   "id": "0918aca1-037c-47e0-a08a-6f23af8d1509",
   "metadata": {},
   "outputs": [],
   "source": [
    "# Drop df['InventoryCategory'] == ''; empty string\n",
    "\n",
    "df1 = df[df['InventoryCategory'] != '']"
   ]
  },
  {
   "cell_type": "code",
   "execution_count": 44,
   "id": "361ff446-ec11-4f5c-95e2-1455e50c521d",
   "metadata": {},
   "outputs": [
    {
     "name": "stdout",
     "output_type": "stream",
     "text": [
      "(2372474, 20) (2370748, 20)\n"
     ]
    }
   ],
   "source": [
    "print(df.shape, df1.shape)"
   ]
  },
  {
   "cell_type": "code",
   "execution_count": 45,
   "id": "a6bdd76b-30cd-4362-800b-fee8841a7c2c",
   "metadata": {},
   "outputs": [
    {
     "data": {
      "text/html": [
       "<div>\n",
       "<style scoped>\n",
       "    .dataframe tbody tr th:only-of-type {\n",
       "        vertical-align: middle;\n",
       "    }\n",
       "\n",
       "    .dataframe tbody tr th {\n",
       "        vertical-align: top;\n",
       "    }\n",
       "\n",
       "    .dataframe thead th {\n",
       "        text-align: right;\n",
       "    }\n",
       "</style>\n",
       "<table border=\"1\" class=\"dataframe\">\n",
       "  <thead>\n",
       "    <tr style=\"text-align: right;\">\n",
       "      <th></th>\n",
       "      <th>PurchasePrice</th>\n",
       "      <th>Quantity</th>\n",
       "      <th>Dollars</th>\n",
       "      <th>LeadTime</th>\n",
       "      <th>OrderTime</th>\n",
       "      <th>PaymentLT</th>\n",
       "    </tr>\n",
       "  </thead>\n",
       "  <tbody>\n",
       "    <tr>\n",
       "      <th>0</th>\n",
       "      <td>35.71</td>\n",
       "      <td>6</td>\n",
       "      <td>214.26</td>\n",
       "      <td>2</td>\n",
       "      <td>12</td>\n",
       "      <td>43</td>\n",
       "    </tr>\n",
       "    <tr>\n",
       "      <th>1</th>\n",
       "      <td>9.35</td>\n",
       "      <td>4</td>\n",
       "      <td>37.40</td>\n",
       "      <td>6</td>\n",
       "      <td>10</td>\n",
       "      <td>45</td>\n",
       "    </tr>\n",
       "    <tr>\n",
       "      <th>2</th>\n",
       "      <td>9.41</td>\n",
       "      <td>5</td>\n",
       "      <td>47.05</td>\n",
       "      <td>5</td>\n",
       "      <td>11</td>\n",
       "      <td>45</td>\n",
       "    </tr>\n",
       "    <tr>\n",
       "      <th>3</th>\n",
       "      <td>9.35</td>\n",
       "      <td>6</td>\n",
       "      <td>56.10</td>\n",
       "      <td>6</td>\n",
       "      <td>10</td>\n",
       "      <td>45</td>\n",
       "    </tr>\n",
       "    <tr>\n",
       "      <th>4</th>\n",
       "      <td>21.32</td>\n",
       "      <td>5</td>\n",
       "      <td>106.60</td>\n",
       "      <td>7</td>\n",
       "      <td>9</td>\n",
       "      <td>38</td>\n",
       "    </tr>\n",
       "    <tr>\n",
       "      <th>...</th>\n",
       "      <td>...</td>\n",
       "      <td>...</td>\n",
       "      <td>...</td>\n",
       "      <td>...</td>\n",
       "      <td>...</td>\n",
       "      <td>...</td>\n",
       "    </tr>\n",
       "    <tr>\n",
       "      <th>2372469</th>\n",
       "      <td>8.06</td>\n",
       "      <td>12</td>\n",
       "      <td>96.72</td>\n",
       "      <td>12</td>\n",
       "      <td>9</td>\n",
       "      <td>28</td>\n",
       "    </tr>\n",
       "    <tr>\n",
       "      <th>2372470</th>\n",
       "      <td>9.39</td>\n",
       "      <td>12</td>\n",
       "      <td>112.68</td>\n",
       "      <td>13</td>\n",
       "      <td>8</td>\n",
       "      <td>28</td>\n",
       "    </tr>\n",
       "    <tr>\n",
       "      <th>2372471</th>\n",
       "      <td>6.75</td>\n",
       "      <td>12</td>\n",
       "      <td>81.00</td>\n",
       "      <td>14</td>\n",
       "      <td>7</td>\n",
       "      <td>28</td>\n",
       "    </tr>\n",
       "    <tr>\n",
       "      <th>2372472</th>\n",
       "      <td>9.39</td>\n",
       "      <td>12</td>\n",
       "      <td>112.68</td>\n",
       "      <td>14</td>\n",
       "      <td>7</td>\n",
       "      <td>28</td>\n",
       "    </tr>\n",
       "    <tr>\n",
       "      <th>2372473</th>\n",
       "      <td>8.06</td>\n",
       "      <td>12</td>\n",
       "      <td>96.72</td>\n",
       "      <td>12</td>\n",
       "      <td>9</td>\n",
       "      <td>28</td>\n",
       "    </tr>\n",
       "  </tbody>\n",
       "</table>\n",
       "<p>2370748 rows × 6 columns</p>\n",
       "</div>"
      ],
      "text/plain": [
       "         PurchasePrice  Quantity  Dollars  LeadTime  OrderTime  PaymentLT\n",
       "0                35.71         6   214.26         2         12         43\n",
       "1                 9.35         4    37.40         6         10         45\n",
       "2                 9.41         5    47.05         5         11         45\n",
       "3                 9.35         6    56.10         6         10         45\n",
       "4                21.32         5   106.60         7          9         38\n",
       "...                ...       ...      ...       ...        ...        ...\n",
       "2372469           8.06        12    96.72        12          9         28\n",
       "2372470           9.39        12   112.68        13          8         28\n",
       "2372471           6.75        12    81.00        14          7         28\n",
       "2372472           9.39        12   112.68        14          7         28\n",
       "2372473           8.06        12    96.72        12          9         28\n",
       "\n",
       "[2370748 rows x 6 columns]"
      ]
     },
     "execution_count": 45,
     "metadata": {},
     "output_type": "execute_result"
    }
   ],
   "source": [
    "df1.select_dtypes(include = [float, int])"
   ]
  },
  {
   "cell_type": "code",
   "execution_count": 46,
   "id": "127ee4a2-400b-43bd-b250-7341233dcdad",
   "metadata": {},
   "outputs": [],
   "source": [
    "# Numerical features / Categorical features / Date features"
   ]
  },
  {
   "cell_type": "code",
   "execution_count": 47,
   "id": "5fb7cfea-8c57-4a8b-a039-93beb3e44b2b",
   "metadata": {},
   "outputs": [
    {
     "data": {
      "text/plain": [
       "Index(['InventoryId', 'Store', 'Brand', 'Description', 'Size', 'VendorNumber',\n",
       "       'VendorName', 'PONumber', 'PODate', 'ReceivingDate', 'InvoiceDate',\n",
       "       'PayDate', 'PurchasePrice', 'Quantity', 'Dollars', 'Classification',\n",
       "       'LeadTime', 'OrderTime', 'PaymentLT', 'InventoryCategory'],\n",
       "      dtype='object')"
      ]
     },
     "execution_count": 47,
     "metadata": {},
     "output_type": "execute_result"
    }
   ],
   "source": [
    "df1.columns"
   ]
  },
  {
   "cell_type": "code",
   "execution_count": 48,
   "id": "6e9b2d93-018f-469c-acb7-4f931571374e",
   "metadata": {},
   "outputs": [
    {
     "data": {
      "text/plain": [
       "['PODate', 'ReceivingDate', 'InvoiceDate', 'PayDate']"
      ]
     },
     "execution_count": 48,
     "metadata": {},
     "output_type": "execute_result"
    }
   ],
   "source": [
    "df1.select_dtypes(include = ['datetime']).columns.to_list()"
   ]
  },
  {
   "cell_type": "code",
   "execution_count": 49,
   "id": "a32eb585-91c9-4dbd-9c67-c8695a5508af",
   "metadata": {},
   "outputs": [
    {
     "name": "stdout",
     "output_type": "stream",
     "text": [
      "['PurchasePrice', 'Quantity', 'Dollars', 'LeadTime', 'OrderTime', 'PaymentLT']\n",
      "['PODate', 'ReceivingDate', 'InvoiceDate', 'PayDate']\n",
      "['Brand', 'Classification', 'Description', 'InventoryCategory', 'InventoryId', 'PONumber', 'Size', 'Store', 'VendorName', 'VendorNumber']\n"
     ]
    }
   ],
   "source": [
    "numerical_features = df1.select_dtypes(include = [float, int]).columns.to_list()\n",
    "date_features = df1.select_dtypes(include = ['datetime']).columns.to_list()\n",
    "categorical_features = df1.columns.difference(numerical_features + date_features).to_list()\n",
    "\n",
    "print(numerical_features)\n",
    "print(date_features)\n",
    "print(categorical_features)"
   ]
  },
  {
   "cell_type": "code",
   "execution_count": 50,
   "id": "1c193e81-d11b-4ed2-a618-96c0b665f109",
   "metadata": {},
   "outputs": [
    {
     "name": "stdout",
     "output_type": "stream",
     "text": [
      "20\n",
      "20\n"
     ]
    }
   ],
   "source": [
    "# Check columns\n",
    "\n",
    "print(len(numerical_features + date_features + categorical_features))\n",
    "print(len(df1.columns))"
   ]
  },
  {
   "cell_type": "code",
   "execution_count": 51,
   "id": "6bf47844-a9ad-4fd5-9064-a1b6bc190211",
   "metadata": {},
   "outputs": [
    {
     "data": {
      "text/html": [
       "<div>\n",
       "<style scoped>\n",
       "    .dataframe tbody tr th:only-of-type {\n",
       "        vertical-align: middle;\n",
       "    }\n",
       "\n",
       "    .dataframe tbody tr th {\n",
       "        vertical-align: top;\n",
       "    }\n",
       "\n",
       "    .dataframe thead th {\n",
       "        text-align: right;\n",
       "    }\n",
       "</style>\n",
       "<table border=\"1\" class=\"dataframe\">\n",
       "  <thead>\n",
       "    <tr style=\"text-align: right;\">\n",
       "      <th></th>\n",
       "      <th>InventoryId</th>\n",
       "      <th>Store</th>\n",
       "      <th>Brand</th>\n",
       "      <th>Description</th>\n",
       "      <th>Size</th>\n",
       "      <th>VendorNumber</th>\n",
       "      <th>VendorName</th>\n",
       "      <th>PONumber</th>\n",
       "      <th>PODate</th>\n",
       "      <th>ReceivingDate</th>\n",
       "      <th>InvoiceDate</th>\n",
       "      <th>PayDate</th>\n",
       "      <th>PurchasePrice</th>\n",
       "      <th>Quantity</th>\n",
       "      <th>Dollars</th>\n",
       "      <th>Classification</th>\n",
       "      <th>LeadTime</th>\n",
       "      <th>OrderTime</th>\n",
       "      <th>PaymentLT</th>\n",
       "      <th>InventoryCategory</th>\n",
       "    </tr>\n",
       "  </thead>\n",
       "  <tbody>\n",
       "    <tr>\n",
       "      <th>0</th>\n",
       "      <td>69_MOUNTMEND_8412</td>\n",
       "      <td>69</td>\n",
       "      <td>8412</td>\n",
       "      <td>Tequila Ocho Plata Fresno</td>\n",
       "      <td>750mL</td>\n",
       "      <td>105</td>\n",
       "      <td>ALTAMAR BRANDS LLC</td>\n",
       "      <td>8124</td>\n",
       "      <td>2015-12-21</td>\n",
       "      <td>2016-01-02</td>\n",
       "      <td>2016-01-04</td>\n",
       "      <td>2016-02-16</td>\n",
       "      <td>35.71</td>\n",
       "      <td>6</td>\n",
       "      <td>214.26</td>\n",
       "      <td>1</td>\n",
       "      <td>2</td>\n",
       "      <td>12</td>\n",
       "      <td>43</td>\n",
       "      <td>MOUNTMEND</td>\n",
       "    </tr>\n",
       "    <tr>\n",
       "      <th>1</th>\n",
       "      <td>30_CULCHETH_5255</td>\n",
       "      <td>30</td>\n",
       "      <td>5255</td>\n",
       "      <td>TGI Fridays Ultimte Mudslide</td>\n",
       "      <td>1.75L</td>\n",
       "      <td>4466</td>\n",
       "      <td>AMERICAN VINTAGE BEVERAGE</td>\n",
       "      <td>8137</td>\n",
       "      <td>2015-12-22</td>\n",
       "      <td>2016-01-01</td>\n",
       "      <td>2016-01-07</td>\n",
       "      <td>2016-02-21</td>\n",
       "      <td>9.35</td>\n",
       "      <td>4</td>\n",
       "      <td>37.40</td>\n",
       "      <td>1</td>\n",
       "      <td>6</td>\n",
       "      <td>10</td>\n",
       "      <td>45</td>\n",
       "      <td>CULCHETH</td>\n",
       "    </tr>\n",
       "    <tr>\n",
       "      <th>2</th>\n",
       "      <td>34_PITMERDEN_5215</td>\n",
       "      <td>34</td>\n",
       "      <td>5215</td>\n",
       "      <td>TGI Fridays Long Island Iced</td>\n",
       "      <td>1.75L</td>\n",
       "      <td>4466</td>\n",
       "      <td>AMERICAN VINTAGE BEVERAGE</td>\n",
       "      <td>8137</td>\n",
       "      <td>2015-12-22</td>\n",
       "      <td>2016-01-02</td>\n",
       "      <td>2016-01-07</td>\n",
       "      <td>2016-02-21</td>\n",
       "      <td>9.41</td>\n",
       "      <td>5</td>\n",
       "      <td>47.05</td>\n",
       "      <td>1</td>\n",
       "      <td>5</td>\n",
       "      <td>11</td>\n",
       "      <td>45</td>\n",
       "      <td>PITMERDEN</td>\n",
       "    </tr>\n",
       "    <tr>\n",
       "      <th>3</th>\n",
       "      <td>1_HARDERSFIELD_5255</td>\n",
       "      <td>1</td>\n",
       "      <td>5255</td>\n",
       "      <td>TGI Fridays Ultimte Mudslide</td>\n",
       "      <td>1.75L</td>\n",
       "      <td>4466</td>\n",
       "      <td>AMERICAN VINTAGE BEVERAGE</td>\n",
       "      <td>8137</td>\n",
       "      <td>2015-12-22</td>\n",
       "      <td>2016-01-01</td>\n",
       "      <td>2016-01-07</td>\n",
       "      <td>2016-02-21</td>\n",
       "      <td>9.35</td>\n",
       "      <td>6</td>\n",
       "      <td>56.10</td>\n",
       "      <td>1</td>\n",
       "      <td>6</td>\n",
       "      <td>10</td>\n",
       "      <td>45</td>\n",
       "      <td>HARDERSFIELD</td>\n",
       "    </tr>\n",
       "    <tr>\n",
       "      <th>4</th>\n",
       "      <td>76_DONCASTER_2034</td>\n",
       "      <td>76</td>\n",
       "      <td>2034</td>\n",
       "      <td>Glendalough Double Barrel</td>\n",
       "      <td>750mL</td>\n",
       "      <td>388</td>\n",
       "      <td>ATLANTIC IMPORTING COMPANY</td>\n",
       "      <td>8169</td>\n",
       "      <td>2015-12-24</td>\n",
       "      <td>2016-01-02</td>\n",
       "      <td>2016-01-09</td>\n",
       "      <td>2016-02-16</td>\n",
       "      <td>21.32</td>\n",
       "      <td>5</td>\n",
       "      <td>106.60</td>\n",
       "      <td>1</td>\n",
       "      <td>7</td>\n",
       "      <td>9</td>\n",
       "      <td>38</td>\n",
       "      <td>DONCASTER</td>\n",
       "    </tr>\n",
       "    <tr>\n",
       "      <th>5</th>\n",
       "      <td>5_SUTTON_3348</td>\n",
       "      <td>5</td>\n",
       "      <td>3348</td>\n",
       "      <td>Bombay Sapphire Gin</td>\n",
       "      <td>1.75L</td>\n",
       "      <td>480</td>\n",
       "      <td>BACARDI USA INC</td>\n",
       "      <td>8106</td>\n",
       "      <td>2015-12-20</td>\n",
       "      <td>2016-01-02</td>\n",
       "      <td>2016-01-12</td>\n",
       "      <td>2016-02-05</td>\n",
       "      <td>22.38</td>\n",
       "      <td>6</td>\n",
       "      <td>134.28</td>\n",
       "      <td>1</td>\n",
       "      <td>10</td>\n",
       "      <td>13</td>\n",
       "      <td>24</td>\n",
       "      <td>SUTTON</td>\n",
       "    </tr>\n",
       "    <tr>\n",
       "      <th>6</th>\n",
       "      <td>1_HARDERSFIELD_8358</td>\n",
       "      <td>1</td>\n",
       "      <td>8358</td>\n",
       "      <td>Bacardi 151 Proof</td>\n",
       "      <td>750mL</td>\n",
       "      <td>480</td>\n",
       "      <td>BACARDI USA INC</td>\n",
       "      <td>8106</td>\n",
       "      <td>2015-12-20</td>\n",
       "      <td>2016-01-01</td>\n",
       "      <td>2016-01-12</td>\n",
       "      <td>2016-02-05</td>\n",
       "      <td>14.49</td>\n",
       "      <td>12</td>\n",
       "      <td>173.88</td>\n",
       "      <td>1</td>\n",
       "      <td>11</td>\n",
       "      <td>12</td>\n",
       "      <td>24</td>\n",
       "      <td>HARDERSFIELD</td>\n",
       "    </tr>\n",
       "    <tr>\n",
       "      <th>7</th>\n",
       "      <td>30_CULCHETH_4903</td>\n",
       "      <td>30</td>\n",
       "      <td>4903</td>\n",
       "      <td>Bacardi Superior Rum</td>\n",
       "      <td>200mL</td>\n",
       "      <td>480</td>\n",
       "      <td>BACARDI USA INC</td>\n",
       "      <td>8106</td>\n",
       "      <td>2015-12-20</td>\n",
       "      <td>2016-01-01</td>\n",
       "      <td>2016-01-12</td>\n",
       "      <td>2016-02-05</td>\n",
       "      <td>2.87</td>\n",
       "      <td>48</td>\n",
       "      <td>137.76</td>\n",
       "      <td>1</td>\n",
       "      <td>11</td>\n",
       "      <td>12</td>\n",
       "      <td>24</td>\n",
       "      <td>CULCHETH</td>\n",
       "    </tr>\n",
       "    <tr>\n",
       "      <th>8</th>\n",
       "      <td>34_PITMERDEN_3782</td>\n",
       "      <td>34</td>\n",
       "      <td>3782</td>\n",
       "      <td>Grey Goose Le Citron Vodka</td>\n",
       "      <td>750mL</td>\n",
       "      <td>480</td>\n",
       "      <td>BACARDI USA INC</td>\n",
       "      <td>8106</td>\n",
       "      <td>2015-12-20</td>\n",
       "      <td>2016-01-02</td>\n",
       "      <td>2016-01-12</td>\n",
       "      <td>2016-02-05</td>\n",
       "      <td>18.89</td>\n",
       "      <td>5</td>\n",
       "      <td>94.45</td>\n",
       "      <td>1</td>\n",
       "      <td>10</td>\n",
       "      <td>13</td>\n",
       "      <td>24</td>\n",
       "      <td>PITMERDEN</td>\n",
       "    </tr>\n",
       "    <tr>\n",
       "      <th>9</th>\n",
       "      <td>1_HARDERSFIELD_4233</td>\n",
       "      <td>1</td>\n",
       "      <td>4233</td>\n",
       "      <td>Castillo Silver Label Rum</td>\n",
       "      <td>1.75L</td>\n",
       "      <td>480</td>\n",
       "      <td>BACARDI USA INC</td>\n",
       "      <td>8106</td>\n",
       "      <td>2015-12-20</td>\n",
       "      <td>2016-01-01</td>\n",
       "      <td>2016-01-12</td>\n",
       "      <td>2016-02-05</td>\n",
       "      <td>7.87</td>\n",
       "      <td>23</td>\n",
       "      <td>181.01</td>\n",
       "      <td>1</td>\n",
       "      <td>11</td>\n",
       "      <td>12</td>\n",
       "      <td>24</td>\n",
       "      <td>HARDERSFIELD</td>\n",
       "    </tr>\n",
       "  </tbody>\n",
       "</table>\n",
       "</div>"
      ],
      "text/plain": [
       "           InventoryId Store Brand                   Description   Size  \\\n",
       "0    69_MOUNTMEND_8412    69  8412     Tequila Ocho Plata Fresno  750mL   \n",
       "1     30_CULCHETH_5255    30  5255  TGI Fridays Ultimte Mudslide  1.75L   \n",
       "2    34_PITMERDEN_5215    34  5215  TGI Fridays Long Island Iced  1.75L   \n",
       "3  1_HARDERSFIELD_5255     1  5255  TGI Fridays Ultimte Mudslide  1.75L   \n",
       "4    76_DONCASTER_2034    76  2034     Glendalough Double Barrel  750mL   \n",
       "5        5_SUTTON_3348     5  3348           Bombay Sapphire Gin  1.75L   \n",
       "6  1_HARDERSFIELD_8358     1  8358             Bacardi 151 Proof  750mL   \n",
       "7     30_CULCHETH_4903    30  4903          Bacardi Superior Rum  200mL   \n",
       "8    34_PITMERDEN_3782    34  3782    Grey Goose Le Citron Vodka  750mL   \n",
       "9  1_HARDERSFIELD_4233     1  4233     Castillo Silver Label Rum  1.75L   \n",
       "\n",
       "  VendorNumber                   VendorName PONumber     PODate ReceivingDate  \\\n",
       "0          105  ALTAMAR BRANDS LLC              8124 2015-12-21    2016-01-02   \n",
       "1         4466  AMERICAN VINTAGE BEVERAGE       8137 2015-12-22    2016-01-01   \n",
       "2         4466  AMERICAN VINTAGE BEVERAGE       8137 2015-12-22    2016-01-02   \n",
       "3         4466  AMERICAN VINTAGE BEVERAGE       8137 2015-12-22    2016-01-01   \n",
       "4          388  ATLANTIC IMPORTING COMPANY      8169 2015-12-24    2016-01-02   \n",
       "5          480  BACARDI USA INC                 8106 2015-12-20    2016-01-02   \n",
       "6          480  BACARDI USA INC                 8106 2015-12-20    2016-01-01   \n",
       "7          480  BACARDI USA INC                 8106 2015-12-20    2016-01-01   \n",
       "8          480  BACARDI USA INC                 8106 2015-12-20    2016-01-02   \n",
       "9          480  BACARDI USA INC                 8106 2015-12-20    2016-01-01   \n",
       "\n",
       "  InvoiceDate    PayDate  PurchasePrice  Quantity  Dollars Classification  \\\n",
       "0  2016-01-04 2016-02-16          35.71         6   214.26              1   \n",
       "1  2016-01-07 2016-02-21           9.35         4    37.40              1   \n",
       "2  2016-01-07 2016-02-21           9.41         5    47.05              1   \n",
       "3  2016-01-07 2016-02-21           9.35         6    56.10              1   \n",
       "4  2016-01-09 2016-02-16          21.32         5   106.60              1   \n",
       "5  2016-01-12 2016-02-05          22.38         6   134.28              1   \n",
       "6  2016-01-12 2016-02-05          14.49        12   173.88              1   \n",
       "7  2016-01-12 2016-02-05           2.87        48   137.76              1   \n",
       "8  2016-01-12 2016-02-05          18.89         5    94.45              1   \n",
       "9  2016-01-12 2016-02-05           7.87        23   181.01              1   \n",
       "\n",
       "   LeadTime  OrderTime  PaymentLT InventoryCategory  \n",
       "0         2         12         43         MOUNTMEND  \n",
       "1         6         10         45          CULCHETH  \n",
       "2         5         11         45         PITMERDEN  \n",
       "3         6         10         45      HARDERSFIELD  \n",
       "4         7          9         38         DONCASTER  \n",
       "5        10         13         24            SUTTON  \n",
       "6        11         12         24      HARDERSFIELD  \n",
       "7        11         12         24          CULCHETH  \n",
       "8        10         13         24         PITMERDEN  \n",
       "9        11         12         24      HARDERSFIELD  "
      ]
     },
     "execution_count": 51,
     "metadata": {},
     "output_type": "execute_result"
    }
   ],
   "source": [
    "df.head(10)"
   ]
  },
  {
   "cell_type": "code",
   "execution_count": 52,
   "id": "a83be29e-91ed-4466-a92f-54f701465c6e",
   "metadata": {},
   "outputs": [],
   "source": [
    "# EDA"
   ]
  },
  {
   "cell_type": "code",
   "execution_count": 53,
   "id": "68da4988-89b5-4693-8004-662b2ed9ba71",
   "metadata": {},
   "outputs": [],
   "source": [
    "# Order processing by store: Take a look at the order processing time by store\n",
    "# Visualization: Bar chart of average OrderTime by Store."
   ]
  },
  {
   "cell_type": "code",
   "execution_count": 54,
   "id": "c4b7a775-2bce-4827-a77c-c900c8f6cebe",
   "metadata": {},
   "outputs": [
    {
     "data": {
      "image/png": "[encoded data removed]",
      "text/plain": [
       "<Figure size 1200x600 with 1 Axes>"
      ]
     },
     "metadata": {},
     "output_type": "display_data"
    }
   ],
   "source": [
    "# 각 매장별 평균 주문 처리 시간 계산\n",
    "average_order_time = df.groupby('Store')['OrderTime'].mean()\n",
    "\n",
    "# 평균 주문 처리 시간을 내림차순으로 정렬\n",
    "sorted_order_time = average_order_time.sort_values(ascending=True)\n",
    "\n",
    "# 바 차트 그리기\n",
    "plt.figure(figsize=(12, 6))\n",
    "sorted_order_time.plot(kind='bar', color='skyblue')\n",
    "plt.title('Average Order Processing Time by Store')\n",
    "plt.xlabel('Store')\n",
    "plt.ylabel('Average Order Time')\n",
    "plt.grid(axis='y')  # y축에 그리드 추가\n",
    "plt.show()"
   ]
  },
  {
   "cell_type": "code",
   "execution_count": 55,
   "id": "b316b96a-0937-4407-9bf1-f7c0afe921bb",
   "metadata": {},
   "outputs": [],
   "source": [
    "# Lead Time by Store: Compare lead times to see which stores are more efficient.\n",
    "# Visualization: Box plot of LeadTime by Store."
   ]
  },
  {
   "cell_type": "code",
   "execution_count": 56,
   "id": "691db31b-f3f9-4bb0-a160-bd2526666d65",
   "metadata": {},
   "outputs": [
    {
     "data": {
      "text/plain": [
       "<Figure size 1e+07x2000 with 0 Axes>"
      ]
     },
     "metadata": {},
     "output_type": "display_data"
    },
    {
     "data": {
      "image/png": "[encoded data removed]",
      "text/plain": [
       "<Figure size 640x480 with 1 Axes>"
      ]
     },
     "metadata": {},
     "output_type": "display_data"
    }
   ],
   "source": [
    "# 매장별 리드 타임\n",
    "\n",
    "# 박스 플롯 그리기\n",
    "plt.figure(figsize=(100000, 20))\n",
    "df.boxplot(column='LeadTime', by='Store', grid=False)\n",
    "plt.title('Lead Time by Store')\n",
    "plt.suptitle('')  # 기본 제목 제거\n",
    "plt.xlabel('Store')\n",
    "plt.ylabel('Lead Time')\n",
    "plt.xticks(fontsize=6) \n",
    "plt.tight_layout()  # 레이아웃 조정\n",
    "plt.show()"
   ]
  },
  {
   "cell_type": "code",
   "execution_count": 57,
   "id": "2ecf9941-fd5a-4184-8a7c-f92438080afa",
   "metadata": {},
   "outputs": [
    {
     "name": "stdout",
     "output_type": "stream",
     "text": [
      "Unique number of stores: 80\n"
     ]
    }
   ],
   "source": [
    "# 고유한 매장 이름을 추출하고 그 개수 세기\n",
    "unique_stores = df['Store'].nunique()\n",
    "\n",
    "print(f\"Unique number of stores: {unique_stores}\")"
   ]
  },
  {
   "cell_type": "code",
   "execution_count": 65,
   "id": "8aa5c5a8-4fb7-4142-ac4c-52b51cb7742c",
   "metadata": {},
   "outputs": [
    {
     "data": {
      "text/plain": [
       "<Figure size 1200x600 with 0 Axes>"
      ]
     },
     "metadata": {},
     "output_type": "display_data"
    },
    {
     "data": {
      "image/png": "[encoded data removed]",
      "text/plain": [
       "<Figure size 640x480 with 1 Axes>"
      ]
     },
     "metadata": {},
     "output_type": "display_data"
    },
    {
     "data": {
      "text/plain": [
       "<Figure size 1200x600 with 0 Axes>"
      ]
     },
     "metadata": {},
     "output_type": "display_data"
    },
    {
     "data": {
      "image/png": "[encoded data removed]",
      "text/plain": [
       "<Figure size 640x480 with 1 Axes>"
      ]
     },
     "metadata": {},
     "output_type": "display_data"
    },
    {
     "data": {
      "text/plain": [
       "<Figure size 1200x600 with 0 Axes>"
      ]
     },
     "metadata": {},
     "output_type": "display_data"
    },
    {
     "data": {
      "image/png": "[encoded data removed]",
      "text/plain": [
       "<Figure size 640x480 with 1 Axes>"
      ]
     },
     "metadata": {},
     "output_type": "display_data"
    },
    {
     "data": {
      "text/plain": [
       "<Figure size 1200x600 with 0 Axes>"
      ]
     },
     "metadata": {},
     "output_type": "display_data"
    },
    {
     "data": {
      "image/png": "[encoded data removed]",
      "text/plain": [
       "<Figure size 640x480 with 1 Axes>"
      ]
     },
     "metadata": {},
     "output_type": "display_data"
    }
   ],
   "source": [
    "# 고유한 매장 리스트 가져오기\n",
    "unique_stores = df['Store'].unique()\n",
    "\n",
    "# 매장을 20개씩 나누어 4개의 그룹 생성\n",
    "groups = [unique_stores[i:i + 20] for i in range(0, len(unique_stores), 20)]\n",
    "\n",
    "# 각 그룹에 대해 박스 플롯 그리기\n",
    "for i, group in enumerate(groups):\n",
    "    plt.figure(figsize=(12, 6))  # 그래프 크기 조정\n",
    "    df[df['Store'].isin(group)].boxplot(column='LeadTime', by='Store', grid=False)\n",
    "    plt.title(f'Lead Time by Store (Group {i + 1})')\n",
    "    plt.suptitle('')  # 기본 제목 제거\n",
    "    plt.xlabel('Store')\n",
    "    plt.ylabel('Lead Time')\n",
    "    plt.xticks(rotation=90, fontsize=10)  # x축 레이블 회전 및 글자 크기 조정\n",
    "    plt.tight_layout()  # 레이아웃 조정\n",
    "    plt.show()  # 그래프 출력"
   ]
  },
  {
   "cell_type": "code",
   "execution_count": 61,
   "id": "87a6684e-7dc8-4109-987d-676116a0106b",
   "metadata": {},
   "outputs": [],
   "source": [
    "# Order Time vs Lead Time: Analyze if there’s a pattern between order time and lead time.\n",
    "# Visualization: Scatter plot of OrderTime vs LeadTime."
   ]
  },
  {
   "cell_type": "code",
   "execution_count": 62,
   "id": "bf2a2363-d5cf-4846-ae51-d01aaa7cef01",
   "metadata": {},
   "outputs": [
    {
     "data": {
      "image/png": "[encoded data removed]",
      "text/plain": [
       "<Figure size 1200x600 with 1 Axes>"
      ]
     },
     "metadata": {},
     "output_type": "display_data"
    }
   ],
   "source": [
    "# 주문시간 vs 리드타임\n",
    "\n",
    "# 산점도 그리기\n",
    "plt.figure(figsize=(12, 6))\n",
    "plt.scatter(df['OrderTime'], df['LeadTime'], alpha=0.5, color='blue')\n",
    "plt.title('Order Time vs Lead Time')\n",
    "plt.xlabel('Order Time')\n",
    "plt.ylabel('Lead Time')\n",
    "plt.grid(True)  # 그리드 추가\n",
    "plt.tight_layout()  # 레이아웃 조정\n",
    "plt.show()"
   ]
  },
  {
   "cell_type": "code",
   "execution_count": 63,
   "id": "438e4eab-994e-43d8-b67f-476c2f5b83d3",
   "metadata": {},
   "outputs": [],
   "source": [
    "# Lead Time Over Time: Track how lead time has evolved over time.\n",
    "# Visualization: Line chart of PODate vs LeadTime."
   ]
  },
  {
   "cell_type": "code",
   "execution_count": 64,
   "id": "40027c22-f958-4038-a7df-cf33e76600d2",
   "metadata": {},
   "outputs": [
    {
     "name": "stderr",
     "output_type": "stream",
     "text": [
      "C:\\Users\\wkdal\\AppData\\Local\\Temp\\ipykernel_21124\\251730126.py:5: FutureWarning: 'M' is deprecated and will be removed in a future version, please use 'ME' instead.\n",
      "  average_lead_time = df.resample('M', on='PODate')['LeadTime'].mean().reset_index()\n"
     ]
    },
    {
     "data": {
      "image/png": "[encoded data removed]",
      "text/plain": [
       "<Figure size 1200x600 with 1 Axes>"
      ]
     },
     "metadata": {},
     "output_type": "display_data"
    }
   ],
   "source": [
    "# PODate를 datetime 형식으로 변환\n",
    "df['PODate'] = pd.to_datetime(df['PODate'])\n",
    "\n",
    "# 월별 평균 리드 타임 계산\n",
    "average_lead_time = df.resample('M', on='PODate')['LeadTime'].mean().reset_index()\n",
    "\n",
    "# 선 그래프 그리기\n",
    "plt.figure(figsize=(12, 6))\n",
    "plt.plot(average_lead_time['PODate'], average_lead_time['LeadTime'], marker='o', linestyle='-', color='skyblue')\n",
    "plt.title('Lead Time Over Time (Monthly Average)')\n",
    "plt.xlabel('PO Date')\n",
    "plt.ylabel('Average Lead Time')\n",
    "plt.xticks(rotation=45)  # x축 레이블 회전\n",
    "plt.grid(True)  # 그리드 추가\n",
    "plt.tight_layout()  # 레이아웃 조정\n",
    "plt.show()"
   ]
  },
  {
   "cell_type": "code",
   "execution_count": null,
   "id": "49a65d77-ad79-4c7f-8004-7c38fea72036",
   "metadata": {},
   "outputs": [],
   "source": []
  }
 ],
 "metadata": {
  "kernelspec": {
   "display_name": "Python 3 (ipykernel)",
   "language": "python",
   "name": "python3"
  },
  "language_info": {
   "codemirror_mode": {
    "name": "ipython",
    "version": 3
   },
   "file_extension": ".py",
   "mimetype": "text/x-python",
   "name": "python",
   "nbconvert_exporter": "python",
   "pygments_lexer": "ipython3",
   "version": "3.12.4"
  }
 },
 "nbformat": 4,
 "nbformat_minor": 5
}
