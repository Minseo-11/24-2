{
 "cells": [
  {
   "cell_type": "code",
   "execution_count": 1,
   "id": "ead57076-84d6-46af-9755-d266afce5b56",
   "metadata": {},
   "outputs": [],
   "source": [
    "import pandas as pd\n",
    "import statsmodels.stats.api as sms\n",
    "import matplotlib.pyplot as plt\n",
    "import seaborn as sns\n",
    "from scipy.stats import shapiro, levene, mannwhitneyu\n",
    "from statsmodels.stats.proportion import proportions_ztest\n",
    "from scipy.stats import ttest_ind"
   ]
  },
  {
   "cell_type": "code",
   "execution_count": 2,
   "id": "d44d2fd8-9798-4268-af76-3dec17ca90ab",
   "metadata": {},
   "outputs": [
    {
     "data": {
      "text/html": [
       "<div>\n",
       "<style scoped>\n",
       "    .dataframe tbody tr th:only-of-type {\n",
       "        vertical-align: middle;\n",
       "    }\n",
       "\n",
       "    .dataframe tbody tr th {\n",
       "        vertical-align: top;\n",
       "    }\n",
       "\n",
       "    .dataframe thead th {\n",
       "        text-align: right;\n",
       "    }\n",
       "</style>\n",
       "<table border=\"1\" class=\"dataframe\">\n",
       "  <thead>\n",
       "    <tr style=\"text-align: right;\">\n",
       "      <th></th>\n",
       "      <th>user_id</th>\n",
       "      <th>timestamp</th>\n",
       "      <th>group</th>\n",
       "      <th>landing_page</th>\n",
       "      <th>converted</th>\n",
       "    </tr>\n",
       "  </thead>\n",
       "  <tbody>\n",
       "    <tr>\n",
       "      <th>0</th>\n",
       "      <td>851104</td>\n",
       "      <td>11:48.6</td>\n",
       "      <td>control</td>\n",
       "      <td>old_page</td>\n",
       "      <td>0</td>\n",
       "    </tr>\n",
       "    <tr>\n",
       "      <th>1</th>\n",
       "      <td>804228</td>\n",
       "      <td>01:45.2</td>\n",
       "      <td>control</td>\n",
       "      <td>old_page</td>\n",
       "      <td>0</td>\n",
       "    </tr>\n",
       "    <tr>\n",
       "      <th>2</th>\n",
       "      <td>661590</td>\n",
       "      <td>55:06.2</td>\n",
       "      <td>treatment</td>\n",
       "      <td>new_page</td>\n",
       "      <td>0</td>\n",
       "    </tr>\n",
       "    <tr>\n",
       "      <th>3</th>\n",
       "      <td>853541</td>\n",
       "      <td>28:03.1</td>\n",
       "      <td>treatment</td>\n",
       "      <td>new_page</td>\n",
       "      <td>0</td>\n",
       "    </tr>\n",
       "    <tr>\n",
       "      <th>4</th>\n",
       "      <td>864975</td>\n",
       "      <td>52:26.2</td>\n",
       "      <td>control</td>\n",
       "      <td>old_page</td>\n",
       "      <td>1</td>\n",
       "    </tr>\n",
       "  </tbody>\n",
       "</table>\n",
       "</div>"
      ],
      "text/plain": [
       "   user_id timestamp      group landing_page  converted\n",
       "0   851104   11:48.6    control     old_page          0\n",
       "1   804228   01:45.2    control     old_page          0\n",
       "2   661590   55:06.2  treatment     new_page          0\n",
       "3   853541   28:03.1  treatment     new_page          0\n",
       "4   864975   52:26.2    control     old_page          1"
      ]
     },
     "execution_count": 2,
     "metadata": {},
     "output_type": "execute_result"
    }
   ],
   "source": [
    "#### Load dataset\n",
    "data = pd.read_csv('ab_data.csv')\n",
    "data.head()"
   ]
  },
  {
   "cell_type": "code",
   "execution_count": 3,
   "id": "b9682fcf-64ea-4b66-a4d3-acda126cccd7",
   "metadata": {},
   "outputs": [
    {
     "name": "stdout",
     "output_type": "stream",
     "text": [
      "<class 'pandas.core.frame.DataFrame'>\n",
      "RangeIndex: 294480 entries, 0 to 294479\n",
      "Data columns (total 5 columns):\n",
      " #   Column        Non-Null Count   Dtype \n",
      "---  ------        --------------   ----- \n",
      " 0   user_id       294480 non-null  int64 \n",
      " 1   timestamp     294480 non-null  object\n",
      " 2   group         294480 non-null  object\n",
      " 3   landing_page  294480 non-null  object\n",
      " 4   converted     294480 non-null  int64 \n",
      "dtypes: int64(2), object(3)\n",
      "memory usage: 11.2+ MB\n"
     ]
    }
   ],
   "source": [
    "#### Check format\n",
    "data.info()"
   ]
  },
  {
   "cell_type": "code",
   "execution_count": 4,
   "id": "f5f63c64-9802-45c9-a551-51413519e9f5",
   "metadata": {},
   "outputs": [
    {
     "name": "stdout",
     "output_type": "stream",
     "text": [
      "user_id\n",
      "[851104 804228 661590 ... 715931 759899 643532]\n",
      "timestamp\n",
      "['11:48.6' '01:45.2' '55:06.2' ... '40:24.5' '20:29.0' '40:24.5']\n",
      "group\n",
      "['control' 'control' 'treatment' ... 'treatment' 'treatment' 'treatment']\n",
      "landing_page\n",
      "['old_page' 'old_page' 'new_page' ... 'new_page' 'new_page' 'new_page']\n",
      "converted\n",
      "[0 0 0 ... 0 0 0]\n"
     ]
    }
   ],
   "source": [
    "#### Check values\n",
    "for x in data.columns:\n",
    "    print(x)\n",
    "    print(data[x].values)"
   ]
  },
  {
   "cell_type": "code",
   "execution_count": 5,
   "id": "44b0b358-4b1b-4a94-8903-e3829c121fa1",
   "metadata": {},
   "outputs": [
    {
     "data": {
      "text/plain": [
       "user_id         290585\n",
       "timestamp        35993\n",
       "group                2\n",
       "landing_page         2\n",
       "converted            2\n",
       "dtype: int64"
      ]
     },
     "execution_count": 5,
     "metadata": {},
     "output_type": "execute_result"
    }
   ],
   "source": [
    "#### Check unique values\n",
    "data.apply(lambda x: x.nunique())"
   ]
  },
  {
   "cell_type": "code",
   "execution_count": 6,
   "id": "8f05170f-7107-4dfd-ae5d-a130d01ee88d",
   "metadata": {},
   "outputs": [
    {
     "data": {
      "text/plain": [
       "user_id         0\n",
       "timestamp       0\n",
       "group           0\n",
       "landing_page    0\n",
       "converted       0\n",
       "dtype: int64"
      ]
     },
     "execution_count": 6,
     "metadata": {},
     "output_type": "execute_result"
    }
   ],
   "source": [
    "#### Check null\n",
    "data.isnull().sum()"
   ]
  },
  {
   "cell_type": "code",
   "execution_count": 7,
   "id": "e7b03799-6793-45ed-93a1-bd51f2af3b19",
   "metadata": {},
   "outputs": [
    {
     "name": "stdout",
     "output_type": "stream",
     "text": [
      "(294480, 5)\n",
      "(286690, 5)\n"
     ]
    }
   ],
   "source": [
    "#### Remove duplicates\n",
    "print(data.shape)\n",
    "df = data.drop_duplicates(subset = 'user_id', keep = False)\n",
    "print(df.shape)"
   ]
  },
  {
   "cell_type": "code",
   "execution_count": 8,
   "id": "394bba74-8042-41ba-bebb-e9837be0c0d1",
   "metadata": {},
   "outputs": [
    {
     "data": {
      "text/plain": [
       "group      landing_page\n",
       "treatment  new_page        143397\n",
       "control    old_page        143293\n",
       "Name: count, dtype: int64"
      ]
     },
     "execution_count": 8,
     "metadata": {},
     "output_type": "execute_result"
    }
   ],
   "source": [
    "df[['group', 'landing_page']].value_counts()"
   ]
  },
  {
   "cell_type": "code",
   "execution_count": 9,
   "id": "fe5d72b9-3a7e-4104-b2c8-018756204e20",
   "metadata": {},
   "outputs": [
    {
     "name": "stdout",
     "output_type": "stream",
     "text": [
      "The number of mismatched rows:0 rows\n",
      "Percent of mismatched rows:0.00%\n"
     ]
    }
   ],
   "source": [
    "#### Check Mismatch-group & landing page\n",
    "df_mismatch = df[(df[\"group\"]==\"treatment\")&(df[\"landing_page\"]==\"old_page\")\n",
    "                |(df[\"group\"]==\"control\")&(df[\"landing_page\"]==\"new_page\")]\n",
    "n_mismatch = df_mismatch.shape[0]\n",
    "print(f\"The number of mismatched rows:{n_mismatch} rows\")\n",
    "print(\"Percent of mismatched rows:%.2f%%\" % (n_mismatch/df.shape[0]*100))"
   ]
  },
  {
   "cell_type": "code",
   "execution_count": 10,
   "id": "2def3f46-dde0-4b23-9518-6dc829664709",
   "metadata": {},
   "outputs": [
    {
     "name": "stdout",
     "output_type": "stream",
     "text": [
      "        user_id timestamp      group landing_page  converted  total_seconds\n",
      "0        851104   11:48.6    control     old_page          0          708.6\n",
      "1        804228   01:45.2    control     old_page          0          105.2\n",
      "2        661590   55:06.2  treatment     new_page          0         3306.2\n",
      "3        853541   28:03.1  treatment     new_page          0         1683.1\n",
      "4        864975   52:26.2    control     old_page          1         3146.2\n",
      "...         ...       ...        ...          ...        ...            ...\n",
      "294474   945152   51:57.1    control     old_page          0         3117.1\n",
      "294475   734608   45:03.4    control     old_page          0         2703.4\n",
      "294476   697314   20:29.0    control     old_page          0         1229.0\n",
      "294477   715931   40:24.5  treatment     new_page          0         2424.5\n",
      "294479   643532   40:24.5  treatment     new_page          0         2424.5\n",
      "\n",
      "[286690 rows x 6 columns]\n"
     ]
    },
    {
     "name": "stderr",
     "output_type": "stream",
     "text": [
      "C:\\Users\\wkdal\\AppData\\Local\\Temp\\ipykernel_25880\\840223902.py:8: SettingWithCopyWarning: \n",
      "A value is trying to be set on a copy of a slice from a DataFrame.\n",
      "Try using .loc[row_indexer,col_indexer] = value instead\n",
      "\n",
      "See the caveats in the documentation: https://pandas.pydata.org/pandas-docs/stable/user_guide/indexing.html#returning-a-view-versus-a-copy\n",
      "  df['total_seconds'] = df ['timestamp'].apply(convert_to_seconds)\n"
     ]
    }
   ],
   "source": [
    "#### Function to convert MM:SS.S to total seconds\n",
    "def convert_to_seconds(timestamp):\n",
    "    if pd.isnull(timestamp):\n",
    "        return None\n",
    "    minutes, seconds = map(float, timestamp.split(':'))\n",
    "    return minutes * 60 + seconds\n",
    "\n",
    "df['total_seconds'] = df ['timestamp'].apply(convert_to_seconds)\n",
    "\n",
    "print(df)"
   ]
  },
  {
   "cell_type": "code",
   "execution_count": 11,
   "id": "60d4ad39-a8a1-485d-916d-5ba566b42d9a",
   "metadata": {},
   "outputs": [
    {
     "name": "stderr",
     "output_type": "stream",
     "text": [
      "C:\\Users\\wkdal\\AppData\\Local\\Temp\\ipykernel_25880\\524388838.py:2: SettingWithCopyWarning: \n",
      "A value is trying to be set on a copy of a slice from a DataFrame.\n",
      "Try using .loc[row_indexer,col_indexer] = value instead\n",
      "\n",
      "See the caveats in the documentation: https://pandas.pydata.org/pandas-docs/stable/user_guide/indexing.html#returning-a-view-versus-a-copy\n",
      "  df['total_seconds'] = df['total_seconds'].fillna(0)\n"
     ]
    }
   ],
   "source": [
    "#### Missing Value\n",
    "df['total_seconds'] = df['total_seconds'].fillna(0)"
   ]
  },
  {
   "cell_type": "code",
   "execution_count": 12,
   "id": "f3526ff2-f333-47f3-8d27-ab895ee9ff38",
   "metadata": {},
   "outputs": [
    {
     "data": {
      "text/plain": [
       "Index(['user_id', 'timestamp', 'group', 'landing_page', 'converted',\n",
       "       'total_seconds'],\n",
       "      dtype='object')"
      ]
     },
     "execution_count": 12,
     "metadata": {},
     "output_type": "execute_result"
    }
   ],
   "source": [
    "df.columns"
   ]
  },
  {
   "cell_type": "code",
   "execution_count": 13,
   "id": "b152b499-76e6-400c-89e9-3f78474e7ddc",
   "metadata": {},
   "outputs": [
    {
     "data": {
      "text/html": [
       "<div>\n",
       "<style scoped>\n",
       "    .dataframe tbody tr th:only-of-type {\n",
       "        vertical-align: middle;\n",
       "    }\n",
       "\n",
       "    .dataframe tbody tr th {\n",
       "        vertical-align: top;\n",
       "    }\n",
       "\n",
       "    .dataframe thead th {\n",
       "        text-align: right;\n",
       "    }\n",
       "</style>\n",
       "<table border=\"1\" class=\"dataframe\">\n",
       "  <thead>\n",
       "    <tr style=\"text-align: right;\">\n",
       "      <th></th>\n",
       "      <th>user_id</th>\n",
       "      <th>converted</th>\n",
       "      <th>total_seconds</th>\n",
       "    </tr>\n",
       "  </thead>\n",
       "  <tbody>\n",
       "    <tr>\n",
       "      <th>count</th>\n",
       "      <td>286690.000000</td>\n",
       "      <td>286690.000000</td>\n",
       "      <td>286690.000000</td>\n",
       "    </tr>\n",
       "    <tr>\n",
       "      <th>mean</th>\n",
       "      <td>788036.057184</td>\n",
       "      <td>0.119450</td>\n",
       "      <td>1803.054213</td>\n",
       "    </tr>\n",
       "    <tr>\n",
       "      <th>std</th>\n",
       "      <td>91239.396095</td>\n",
       "      <td>0.324317</td>\n",
       "      <td>1038.167339</td>\n",
       "    </tr>\n",
       "    <tr>\n",
       "      <th>min</th>\n",
       "      <td>630000.000000</td>\n",
       "      <td>0.000000</td>\n",
       "      <td>0.000000</td>\n",
       "    </tr>\n",
       "    <tr>\n",
       "      <th>25%</th>\n",
       "      <td>709036.250000</td>\n",
       "      <td>0.000000</td>\n",
       "      <td>904.825000</td>\n",
       "    </tr>\n",
       "    <tr>\n",
       "      <th>50%</th>\n",
       "      <td>788059.500000</td>\n",
       "      <td>0.000000</td>\n",
       "      <td>1803.000000</td>\n",
       "    </tr>\n",
       "    <tr>\n",
       "      <th>75%</th>\n",
       "      <td>866998.750000</td>\n",
       "      <td>0.000000</td>\n",
       "      <td>2701.900000</td>\n",
       "    </tr>\n",
       "    <tr>\n",
       "      <th>max</th>\n",
       "      <td>945999.000000</td>\n",
       "      <td>1.000000</td>\n",
       "      <td>3599.900000</td>\n",
       "    </tr>\n",
       "  </tbody>\n",
       "</table>\n",
       "</div>"
      ],
      "text/plain": [
       "             user_id      converted  total_seconds\n",
       "count  286690.000000  286690.000000  286690.000000\n",
       "mean   788036.057184       0.119450    1803.054213\n",
       "std     91239.396095       0.324317    1038.167339\n",
       "min    630000.000000       0.000000       0.000000\n",
       "25%    709036.250000       0.000000     904.825000\n",
       "50%    788059.500000       0.000000    1803.000000\n",
       "75%    866998.750000       0.000000    2701.900000\n",
       "max    945999.000000       1.000000    3599.900000"
      ]
     },
     "execution_count": 13,
     "metadata": {},
     "output_type": "execute_result"
    }
   ],
   "source": [
    "df.describe()"
   ]
  },
  {
   "cell_type": "code",
   "execution_count": 14,
   "id": "deac0850-259e-4251-a710-7768e49c4095",
   "metadata": {},
   "outputs": [
    {
     "data": {
      "image/png": "[encoded data removed]",
      "text/plain": [
       "<Figure size 800x600 with 1 Axes>"
      ]
     },
     "metadata": {},
     "output_type": "display_data"
    }
   ],
   "source": [
    "#### Plot the distribution of total seconds\n",
    "plt.figure(figsize = (8,6))\n",
    "plt.hist(df['total_seconds'], bins = 30, alpha = 0.7, color = 'lightpink', edgecolor = 'black')\n",
    "plt.title('Distribution of Total Seconds')\n",
    "plt.xlabel('Total Seconds')\n",
    "plt.ylabel('Frequency')\n",
    "plt.ylim(bottom = 0)\n",
    "plt.grid(axis = 'y', linestyle = '--', alpha = 0.7)\n",
    "plt.show()"
   ]
  },
  {
   "cell_type": "code",
   "execution_count": 15,
   "id": "fa56ef3a-4352-4b90-a28f-193bdae06045",
   "metadata": {},
   "outputs": [],
   "source": [
    "#### AB Test\n",
    "#### STEP1: 실험 목표 정의\n",
    "#### 기본 측정항목: 전환율\n",
    "#### 보조 지표: 페이지에서 보낸 시간"
   ]
  },
  {
   "cell_type": "code",
   "execution_count": 16,
   "id": "51847b7e-3fde-48f4-b0a4-8bd1cd679cfc",
   "metadata": {},
   "outputs": [],
   "source": [
    "#### STEP2: 그룹 이해\n",
    "#### 그룹 분포"
   ]
  },
  {
   "cell_type": "code",
   "execution_count": 17,
   "id": "185bd2e6-a7ba-4fd8-8f52-bdc70ffbbc17",
   "metadata": {},
   "outputs": [
    {
     "name": "stdout",
     "output_type": "stream",
     "text": [
      "group\n",
      "treatment    0.500181\n",
      "control      0.499819\n",
      "Name: count, dtype: float64\n"
     ]
    }
   ],
   "source": [
    "group_counts = df['group'].value_counts()\n",
    "group_ratios = group_counts / group_counts.sum()\n",
    "print(group_ratios)"
   ]
  },
  {
   "cell_type": "code",
   "execution_count": 18,
   "id": "875dc9c8-da92-43c1-a724-f563b3aab36d",
   "metadata": {},
   "outputs": [
    {
     "data": {
      "text/html": [
       "<div>\n",
       "<style scoped>\n",
       "    .dataframe tbody tr th:only-of-type {\n",
       "        vertical-align: middle;\n",
       "    }\n",
       "\n",
       "    .dataframe tbody tr th {\n",
       "        vertical-align: top;\n",
       "    }\n",
       "\n",
       "    .dataframe thead th {\n",
       "        text-align: right;\n",
       "    }\n",
       "</style>\n",
       "<table border=\"1\" class=\"dataframe\">\n",
       "  <thead>\n",
       "    <tr style=\"text-align: right;\">\n",
       "      <th></th>\n",
       "      <th></th>\n",
       "      <th>landing_page</th>\n",
       "    </tr>\n",
       "    <tr>\n",
       "      <th>group</th>\n",
       "      <th>landing_page</th>\n",
       "      <th></th>\n",
       "    </tr>\n",
       "  </thead>\n",
       "  <tbody>\n",
       "    <tr>\n",
       "      <th>control</th>\n",
       "      <th>old_page</th>\n",
       "      <td>143293</td>\n",
       "    </tr>\n",
       "    <tr>\n",
       "      <th>treatment</th>\n",
       "      <th>new_page</th>\n",
       "      <td>143397</td>\n",
       "    </tr>\n",
       "  </tbody>\n",
       "</table>\n",
       "</div>"
      ],
      "text/plain": [
       "                        landing_page\n",
       "group     landing_page              \n",
       "control   old_page            143293\n",
       "treatment new_page            143397"
      ]
     },
     "execution_count": 18,
     "metadata": {},
     "output_type": "execute_result"
    }
   ],
   "source": [
    "df.groupby(['group', 'landing_page']).agg({'landing_page': lambda x: x.value_counts()})"
   ]
  },
  {
   "cell_type": "code",
   "execution_count": 19,
   "id": "a461f54d-ee90-4300-866b-54d32f774c25",
   "metadata": {},
   "outputs": [
    {
     "data": {
      "text/html": [
       "<div>\n",
       "<style scoped>\n",
       "    .dataframe tbody tr th:only-of-type {\n",
       "        vertical-align: middle;\n",
       "    }\n",
       "\n",
       "    .dataframe tbody tr th {\n",
       "        vertical-align: top;\n",
       "    }\n",
       "\n",
       "    .dataframe thead th {\n",
       "        text-align: right;\n",
       "    }\n",
       "</style>\n",
       "<table border=\"1\" class=\"dataframe\">\n",
       "  <thead>\n",
       "    <tr style=\"text-align: right;\">\n",
       "      <th></th>\n",
       "      <th></th>\n",
       "      <th>landing_page</th>\n",
       "    </tr>\n",
       "    <tr>\n",
       "      <th>group</th>\n",
       "      <th>landing_page</th>\n",
       "      <th></th>\n",
       "    </tr>\n",
       "  </thead>\n",
       "  <tbody>\n",
       "    <tr>\n",
       "      <th>control</th>\n",
       "      <th>old_page</th>\n",
       "      <td>0.499819</td>\n",
       "    </tr>\n",
       "    <tr>\n",
       "      <th>treatment</th>\n",
       "      <th>new_page</th>\n",
       "      <td>0.500181</td>\n",
       "    </tr>\n",
       "  </tbody>\n",
       "</table>\n",
       "</div>"
      ],
      "text/plain": [
       "                        landing_page\n",
       "group     landing_page              \n",
       "control   old_page          0.499819\n",
       "treatment new_page          0.500181"
      ]
     },
     "execution_count": 19,
     "metadata": {},
     "output_type": "execute_result"
    }
   ],
   "source": [
    "df.groupby(['group', 'landing_page']).agg({'landing_page': lambda x: x.value_counts()/group_counts.sum()})"
   ]
  },
  {
   "cell_type": "code",
   "execution_count": 20,
   "id": "1c963eb7-3731-4f5c-bf43-a448620bebc7",
   "metadata": {},
   "outputs": [
    {
     "data": {
      "image/png": "[encoded data removed]",
      "text/plain": [
       "<Figure size 640x480 with 1 Axes>"
      ]
     },
     "metadata": {},
     "output_type": "display_data"
    }
   ],
   "source": [
    "page_conversion = df.groupby(['landing_page', 'group'])['converted'].mean().reset_index()\n",
    "\n",
    "# Plot\n",
    "\n",
    "sns.barplot(data = page_conversion, x = 'landing_page', y = 'converted', hue = 'group', palette = 'coolwarm')\n",
    "plt.title('Conversion Rate by Landing Page')\n",
    "plt.ylabel('Conversion Rate')\n",
    "plt.xlabel('Landing Page')\n",
    "plt.legend(title = 'Group')\n",
    "plt.show()"
   ]
  },
  {
   "cell_type": "code",
   "execution_count": 21,
   "id": "b32cae3b-00d3-4a1c-9514-3d74073d16ac",
   "metadata": {},
   "outputs": [
    {
     "data": {
      "text/html": [
       "<div>\n",
       "<style scoped>\n",
       "    .dataframe tbody tr th:only-of-type {\n",
       "        vertical-align: middle;\n",
       "    }\n",
       "\n",
       "    .dataframe tbody tr th {\n",
       "        vertical-align: top;\n",
       "    }\n",
       "\n",
       "    .dataframe thead th {\n",
       "        text-align: right;\n",
       "    }\n",
       "</style>\n",
       "<table border=\"1\" class=\"dataframe\">\n",
       "  <thead>\n",
       "    <tr style=\"text-align: right;\">\n",
       "      <th></th>\n",
       "      <th></th>\n",
       "      <th>converted</th>\n",
       "    </tr>\n",
       "    <tr>\n",
       "      <th>group</th>\n",
       "      <th>landing_page</th>\n",
       "      <th></th>\n",
       "    </tr>\n",
       "  </thead>\n",
       "  <tbody>\n",
       "    <tr>\n",
       "      <th>control</th>\n",
       "      <th>old_page</th>\n",
       "      <td>0.120173</td>\n",
       "    </tr>\n",
       "    <tr>\n",
       "      <th>treatment</th>\n",
       "      <th>new_page</th>\n",
       "      <td>0.118726</td>\n",
       "    </tr>\n",
       "  </tbody>\n",
       "</table>\n",
       "</div>"
      ],
      "text/plain": [
       "                        converted\n",
       "group     landing_page           \n",
       "control   old_page       0.120173\n",
       "treatment new_page       0.118726"
      ]
     },
     "execution_count": 21,
     "metadata": {},
     "output_type": "execute_result"
    }
   ],
   "source": [
    "df.groupby(['group', 'landing_page']).agg({'converted': 'mean'})"
   ]
  },
  {
   "cell_type": "code",
   "execution_count": 22,
   "id": "41ce509a-871c-481d-9092-bbf7aece4dc5",
   "metadata": {},
   "outputs": [
    {
     "name": "stdout",
     "output_type": "stream",
     "text": [
      "       Group  Conversion Rate\n",
      "0    control         0.120173\n",
      "1  treatment         0.118726\n"
     ]
    }
   ],
   "source": [
    "conversion_summary = df.groupby('group')['converted'].mean().reset_index()\n",
    "conversion_summary.columns = ['Group', 'Conversion Rate']\n",
    "\n",
    "print(conversion_summary)"
   ]
  },
  {
   "cell_type": "code",
   "execution_count": 23,
   "id": "68d374cc-f7bb-4b10-9624-64aa1f71a1ec",
   "metadata": {},
   "outputs": [
    {
     "name": "stderr",
     "output_type": "stream",
     "text": [
      "C:\\Users\\wkdal\\AppData\\Local\\Temp\\ipykernel_25880\\3995786204.py:1: FutureWarning: \n",
      "\n",
      "Passing `palette` without assigning `hue` is deprecated and will be removed in v0.14.0. Assign the `x` variable to `hue` and set `legend=False` for the same effect.\n",
      "\n",
      "  sns.barplot(data = conversion_summary, x = 'Group', y = 'Conversion Rate', palette = 'viridis')\n"
     ]
    },
    {
     "data": {
      "image/png": "[encoded data removed]",
      "text/plain": [
       "<Figure size 640x480 with 1 Axes>"
      ]
     },
     "metadata": {},
     "output_type": "display_data"
    }
   ],
   "source": [
    "sns.barplot(data = conversion_summary, x = 'Group', y = 'Conversion Rate', palette = 'viridis')\n",
    "plt.title('Conversion Rate by Group')\n",
    "plt.ylabel('Conversion Rate')\n",
    "plt.xlabel('Group')\n",
    "plt.show()"
   ]
  },
  {
   "cell_type": "code",
   "execution_count": 24,
   "id": "284080be-f6d7-4cf2-a8fd-ac5343327e61",
   "metadata": {},
   "outputs": [],
   "source": [
    "#### STEP3:가설 세우기\n",
    "#### H0:pA = pB (Null Hypothesis); 그룹 간 전환율에는 차이가 없습니다; 이전 페이지(old page)와 새 페이지(new page) 간에 통계적으로 유의미한 차이가 없습니다.\n",
    "#### H1:pA ≠ pB (Alternative Hypothesis); Treatment group은 전환율(conversion rate)이 더 높습니다.; 이전 페이지(old page)와 새 페이지(new page) 간에 통계적으로 유의미한 차이가 있습니다."
   ]
  },
  {
   "cell_type": "code",
   "execution_count": 25,
   "id": "5d559c2d-bd93-4693-ac92-dc2e6c2a491d",
   "metadata": {},
   "outputs": [],
   "source": [
    "#### STEP4: 지표 분석"
   ]
  },
  {
   "cell_type": "code",
   "execution_count": 26,
   "id": "d068ce16-114b-41fa-bd48-5ec1b5733a4d",
   "metadata": {},
   "outputs": [
    {
     "name": "stdout",
     "output_type": "stream",
     "text": [
      "group\n",
      "control      0.120173\n",
      "treatment    0.118726\n",
      "Name: converted, dtype: float64\n"
     ]
    }
   ],
   "source": [
    "#### A: 전환율\n",
    "conversion_rates = df.groupby('group')['converted'].mean()\n",
    "print(conversion_rates)"
   ]
  },
  {
   "cell_type": "code",
   "execution_count": 27,
   "id": "0b74bfd5-386f-4da4-b576-77789f308cda",
   "metadata": {},
   "outputs": [
    {
     "name": "stdout",
     "output_type": "stream",
     "text": [
      "group\n",
      "control      1804.832314\n",
      "treatment    1801.277402\n",
      "Name: total_seconds, dtype: float64\n"
     ]
    }
   ],
   "source": [
    "#### B: 페이지에서 머문 시간\n",
    "time_metrics = df.groupby('group')['total_seconds'].mean()\n",
    "print(time_metrics)"
   ]
  },
  {
   "cell_type": "code",
   "execution_count": 28,
   "id": "4d5391ce-5795-4be8-9456-aa13b96e8c4d",
   "metadata": {},
   "outputs": [],
   "source": [
    "#### STEP5: 통계 검정\n",
    "#### two proportion z-Test: 두 그룹의 비율을 비교 검정하기 위해 활용"
   ]
  },
  {
   "cell_type": "code",
   "execution_count": 29,
   "id": "455ad9ab-4830-4940-96c9-97e416f82870",
   "metadata": {},
   "outputs": [
    {
     "name": "stdout",
     "output_type": "stream",
     "text": [
      "Z-test Statistic: 1.1944850812796501, p-value:, 0.232288\n"
     ]
    }
   ],
   "source": [
    "#### A. Test- 전환율\n",
    "control = df[df['group'] == 'control']['converted']\n",
    "treatment = df[df['group'] == 'treatment']['converted']\n",
    "\n",
    "control_converted = control.sum()\n",
    "treatment_converted = treatment.sum()\n",
    "\n",
    "# Size of group\n",
    "n_control = len(control)\n",
    "n_treatment = len(treatment)\n",
    "\n",
    "stat, p_value = proportions_ztest([control_converted, treatment_converted], [n_control, n_treatment])\n",
    "print(f\"Z-test Statistic: {stat}, p-value:, {p_value:.6f}\")"
   ]
  },
  {
   "cell_type": "code",
   "execution_count": 30,
   "id": "f0843b8f-7372-439a-ba2e-76aa44bb108c",
   "metadata": {},
   "outputs": [
    {
     "name": "stdout",
     "output_type": "stream",
     "text": [
      "T-test Statistic: 0.9167220080609694, p-value: 0.359289\n"
     ]
    }
   ],
   "source": [
    "#### B. Test- 페이지에 머문 시간\n",
    "control_time = df[df['group'] == 'control']['total_seconds']\n",
    "treatment_time = df[df['group'] == 'treatment']['total_seconds']\n",
    "\n",
    "t_stat, p_value = ttest_ind(control_time, treatment_time)\n",
    "print(f\"T-test Statistic: {t_stat}, p-value: {p_value:.6f}\")"
   ]
  }
 ],
 "metadata": {
  "kernelspec": {
   "display_name": "Python 3 (ipykernel)",
   "language": "python",
   "name": "python3"
  },
  "language_info": {
   "codemirror_mode": {
    "name": "ipython",
    "version": 3
   },
   "file_extension": ".py",
   "mimetype": "text/x-python",
   "name": "python",
   "nbconvert_exporter": "python",
   "pygments_lexer": "ipython3",
   "version": "3.12.4"
  }
 },
 "nbformat": 4,
 "nbformat_minor": 5
}
